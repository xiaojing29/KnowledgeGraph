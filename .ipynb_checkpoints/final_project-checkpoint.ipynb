{
 "cells": [
  {
   "cell_type": "code",
   "execution_count": 1,
   "id": "2db9279e",
   "metadata": {},
   "outputs": [],
   "source": [
    "# import constructs\n",
    "from rdflib import Graph, Literal, RDF, URIRef, BNode\n",
    "from rdflib.namespace import RDF, RDFS, OWL, XSD, SDO\n",
    "from rdflib.namespace import Namespace"
   ]
  },
  {
   "cell_type": "code",
   "execution_count": 2,
   "id": "43aa5ab3",
   "metadata": {},
   "outputs": [],
   "source": [
    "# Create an RDF graph\n",
    "g = Graph()"
   ]
  },
  {
   "cell_type": "code",
   "execution_count": 3,
   "id": "00ff01c1",
   "metadata": {},
   "outputs": [],
   "source": [
    "# Define the namespace\n",
    "myOnto = Namespace(\"http://www.mysemantics.com/ontology/\")\n",
    "mySemantics = Namespace(\"http://www.mysemantics.com/resource/\")\n",
    "dbr = Namespace(\"http://dbpedia.org/resource/\")\n",
    "dbo = Namespace(\"http://dbpedia.org/ontology/\")\n",
    "FOAF = Namespace(\"http://xmlns.com/foaf/0.1/\")"
   ]
  },
  {
   "cell_type": "code",
   "execution_count": 4,
   "id": "c697dec1",
   "metadata": {},
   "outputs": [],
   "source": [
    "# Bind prefixes\n",
    "g.bind(\"mySemantics\", mySemantics) # adding prefix mysemantics\n",
    "g.bind(\"dbr\", dbr)\n",
    "g.bind(\"dbo\", dbo)\n",
    "g.bind(\"myOnto\", myOnto)\n",
    "g.bind('rdf', RDF)\n",
    "g.bind('xsd', XSD)\n",
    "g.bind(\"\", mySemantics) # adding default prefix"
   ]
  },
  {
   "cell_type": "code",
   "execution_count": 5,
   "id": "b6f65300",
   "metadata": {},
   "outputs": [
    {
     "data": {
      "text/plain": [
       "<Graph identifier=N274bef96c380458991941e3cf901e78e (<class 'rdflib.graph.Graph'>)>"
      ]
     },
     "execution_count": 5,
     "metadata": {},
     "output_type": "execute_result"
    }
   ],
   "source": [
    "# Add ontology declaration statements\n",
    "OntologyIRI = URIRef(myOnto)\n",
    "dbpedia_uri = URIRef(\"http://dbpedia.org/resource/\")\n",
    "g.add((OntologyIRI, RDF.type, OWL.Ontology))\n",
    "g.add((OntologyIRI, RDFS.comment, Literal(\"An ontology for our 22 favorite songs\", lang=\"en\")))"
   ]
  },
  {
   "cell_type": "code",
   "execution_count": 6,
   "id": "f96056d2",
   "metadata": {},
   "outputs": [
    {
     "data": {
      "text/plain": [
       "'<http://www.mysemantics.com/ontology/Person>'"
      ]
     },
     "execution_count": 6,
     "metadata": {},
     "output_type": "execute_result"
    }
   ],
   "source": [
    "# IRI for class myOnto:Person \n",
    "Person = myOnto.Person\n",
    "OntologyIRI = URIRef(myOnto) #add onto declaration\n",
    "Person.n3()"
   ]
  },
  {
   "cell_type": "code",
   "execution_count": 7,
   "id": "23d0d94c",
   "metadata": {},
   "outputs": [
    {
     "data": {
      "text/plain": [
       "'<http://www.mysemantics.com/ontology/Song>'"
      ]
     },
     "execution_count": 7,
     "metadata": {},
     "output_type": "execute_result"
    }
   ],
   "source": [
    "# IRI for class myOnto:Person \n",
    "Song = myOnto.Song\n",
    "OntologyIRI = URIRef(myOnto) #add onto declaration\n",
    "Song.n3()"
   ]
  },
  {
   "cell_type": "code",
   "execution_count": 8,
   "id": "e736c64d",
   "metadata": {},
   "outputs": [
    {
     "data": {
      "text/plain": [
       "<Graph identifier=N274bef96c380458991941e3cf901e78e (<class 'rdflib.graph.Graph'>)>"
      ]
     },
     "execution_count": 8,
     "metadata": {},
     "output_type": "execute_result"
    }
   ],
   "source": [
    "# Define classes\n",
    "### Class Person\n",
    "Person = myOnto.Person\n",
    "g.add((Person, RDF.type, OWL.Class))\n",
    "g.add((Person, RDFS.subClassOf, SDO.Person))\n",
    "\n",
    "_resHasWikipageID = BNode()   # blank node for restriction\n",
    "g.add((Person, RDFS.subClassOf, _resHasWikipageID))\n",
    "g.add((_resHasWikipageID, RDF.type, OWL.Restriction))\n",
    "g.add((_resHasWikipageID, OWL.onProperty, myOnto.hasWikipageID))\n",
    "g.add((_resHasWikipageID, OWL.maxQualifiedCardinality, Literal(\"1\", datatype=XSD.nonNegativeInteger)))\n",
    "g.add((_resHasWikipageID, OWL.onDataRange, XSD.nonNegativeInteger))\n",
    "\n",
    "g.add((Person, RDFS.label, Literal(\"Person\", lang=\"en\")))\n",
    "g.add((Person, RDFS.comment, Literal(\"A class defining a person.\", lang=\"en\")))\n",
    "\n",
    "### Class Song\n",
    "Song = myOnto.Song\n",
    "g.add((Song, RDF.type, OWL.Class))\n",
    "g.add((Song, RDFS.subClassOf, SDO.MusicRecording))\n",
    "g.add((Song, RDFS.subClassOf, dbo.Song))\n",
    "\n",
    "_resReleaseDate = BNode()  # blank node for restriction\n",
    "g.add((Song, RDFS.subClassOf, _resReleaseDate))\n",
    "g.add((_resReleaseDate, RDF.type, OWL.Restriction))\n",
    "g.add((_resReleaseDate, OWL.onProperty, dbo.releaseDate))\n",
    "g.add((_resReleaseDate, OWL.cardinality, Literal(\"1\", datatype=XSD.nonNegativeInteger)))\n",
    "g.add((_resReleaseDate, OWL.onDataRange, XSD.date))\n",
    "\n",
    "_resArtist = BNode()  # blank node for restriction\n",
    "g.add((Song, RDFS.subClassOf, _resArtist))\n",
    "g.add((_resArtist, RDF.type, OWL.Restriction))\n",
    "g.add((_resArtist, OWL.onProperty, dbo.artist))\n",
    "g.add((_resArtist, OWL.minCardinality, Literal(\"1\", datatype=XSD.nonNegativeInteger)))\n",
    "g.add((_resArtist, OWL.onDataRange, XSD.anyURI))\n",
    "\n",
    "_resWriter = BNode() # blank node for restriction\n",
    "g.add((Song, RDFS.subClassOf, _resWriter))\n",
    "g.add((_resWriter, RDF.type, OWL.Restriction))\n",
    "g.add((_resWriter, OWL.onProperty, dbo.writer))\n",
    "g.add((_resWriter, OWL.minCardinality, Literal(\"1\", datatype=XSD.nonNegativeInteger)))\n",
    "g.add((_resWriter, OWL.onDataRange, XSD.anyURI))\n",
    "\n",
    "_resProducer = BNode() # blank node for restriction\n",
    "g.add((Song, RDFS.subClassOf, _resProducer))\n",
    "g.add((_resProducer, RDF.type, OWL.Restriction))\n",
    "g.add((_resProducer, OWL.onProperty, dbo.producer))\n",
    "g.add((_resProducer, OWL.minCardinality, Literal(\"1\", datatype=XSD.nonNegativeInteger)))\n",
    "g.add((_resProducer, OWL.onDataRange, XSD.anyURI))\n",
    "\n",
    "_resGenre = BNode() # blank node for restriction\n",
    "g.add((Song, RDFS.subClassOf, _resGenre))\n",
    "g.add((_resGenre, RDF.type, OWL.Restriction))\n",
    "g.add((_resGenre, OWL.onProperty, dbo.genre))\n",
    "g.add((_resGenre, OWL.minCardinality, Literal(\"1\", datatype=XSD.nonNegativeInteger)))\n",
    "g.add((_resGenre, OWL.onDataRange, XSD.anyURI))\n",
    "\n",
    "_resRecordLabel = BNode() # blank node for restriction\n",
    "g.add((Song, RDFS.subClassOf, _resRecordLabel))\n",
    "g.add((_resRecordLabel, RDF.type, OWL.Restriction))\n",
    "g.add((_resRecordLabel, OWL.onProperty, dbo.recordLabel))\n",
    "g.add((_resRecordLabel, OWL.minCardinality, Literal(\"1\", datatype=XSD.nonNegativeInteger)))\n",
    "g.add((_resRecordLabel, OWL.onDataRange, XSD.anyURI))\n",
    "\n",
    "g.add((Song, RDFS.label, Literal(\"Song\", lang=\"en\")))\n",
    "g.add((Song, RDFS.comment, Literal(\"A class defining a song.\", lang=\"en\")))\n",
    "\n",
    "### Class RecordCompany\n",
    "RecordCompany = myOnto.RecordCompany\n",
    "g.add((RecordCompany, RDF.type, OWL.Class))\n",
    "g.add((RecordCompany, RDFS.subClassOf, dbo.Company))\n",
    "g.add((RecordCompany, RDFS.label, Literal(\"Record Company\", lang=\"en\")))\n",
    "g.add((RecordCompany, RDFS.comment, Literal(\"A class defining a record label.\", lang=\"en\")))"
   ]
  },
  {
   "cell_type": "code",
   "execution_count": 9,
   "id": "709dd91a",
   "metadata": {},
   "outputs": [
    {
     "data": {
      "text/plain": [
       "<Graph identifier=N274bef96c380458991941e3cf901e78e (<class 'rdflib.graph.Graph'>)>"
      ]
     },
     "execution_count": 9,
     "metadata": {},
     "output_type": "execute_result"
    }
   ],
   "source": [
    "# Define properties\n",
    "### Property hasWikipageID\n",
    "hasWikipageID = myOnto.hasWikipageID\n",
    "g.add((hasWikipageID, RDF.type, OWL.DatatypeProperty))\n",
    "g.add((hasWikipageID, RDF.type, OWL.FunctionalProperty))\n",
    "g.add((hasWikipageID, RDF.type, OWL.InverseFunctionalProperty))\n",
    "g.add((hasWikipageID, RDFS.domain, Person))\n",
    "g.add((hasWikipageID, RDFS.range, XSD.integer))\n",
    "g.add((hasWikipageID, RDFS.label, Literal(\"Wikipage ID\", lang=\"en\")))\n",
    "g.add((hasWikipageID, RDFS.comment, Literal(\"The Wikipage ID of a person.\", lang=\"en\")))\n",
    "\n",
    "### Property hasName\n",
    "hasName = myOnto.hasName\n",
    "g.add((hasName, RDF.type, OWL.DatatypeProperty))\n",
    "g.add((hasName, RDF.type, OWL.FunctionalProperty))\n",
    "g.add((hasName, RDFS.domain, Song))\n",
    "g.add((hasName, RDFS.domain, RecordCompany))\n",
    "g.add((hasName, RDFS.range, XSD.string))\n",
    "g.add((hasName, RDFS.label, Literal(\"Name\", lang=\"en\")))\n",
    "g.add((hasName, RDFS.comment, Literal(\"The name of a song or record label.\", lang=\"en\")))"
   ]
  },
  {
   "cell_type": "code",
   "execution_count": 10,
   "id": "b72eb530",
   "metadata": {},
   "outputs": [
    {
     "data": {
      "text/plain": [
       "<Graph identifier=N274bef96c380458991941e3cf901e78e (<class 'rdflib.graph.Graph'>)>"
      ]
     },
     "execution_count": 10,
     "metadata": {},
     "output_type": "execute_result"
    }
   ],
   "source": [
    "# Declaration of external classes & properties\n",
    "### Declaration of external classes\n",
    "g.add((SDO.Person, RDF.type, OWL.Class))\n",
    "g.add((SDO.Organization, RDF.type, OWL.Class))\n",
    "g.add((dbo.Song, RDF.type, OWL.Class))\n",
    "g.add((SDO.MusicRecording, RDF.type, OWL.Class))\n",
    "g.add((dbo.Company, RDF.type, OWL.Class))\n",
    "\n",
    "### Declaration of external properties\n",
    "g.add((dbo.birthName, RDF.type, OWL.DatatypeProperty))\n",
    "g.add((dbo.artist, RDF.type, OWL.ObjectProperty))\n",
    "g.add((dbo.genre, RDF.type, OWL.ObjectProperty))\n",
    "g.add((dbo.writer, RDF.type, OWL.ObjectProperty))\n",
    "g.add((dbo.producer, RDF.type, OWL.ObjectProperty))\n",
    "g.add((dbo.recordLabel, RDF.type, OWL.ObjectProperty))\n",
    "g.add((dbo.releaseDate, RDF.type, OWL.DatatypeProperty))"
   ]
  },
  {
   "cell_type": "code",
   "execution_count": 11,
   "id": "9cf9bfd8",
   "metadata": {},
   "outputs": [
    {
     "name": "stdout",
     "output_type": "stream",
     "text": [
      "@prefix dbo: <http://dbpedia.org/ontology/> .\n",
      "@prefix myOnto: <http://www.mysemantics.com/ontology/> .\n",
      "@prefix owl: <http://www.w3.org/2002/07/owl#> .\n",
      "@prefix rdfs: <http://www.w3.org/2000/01/rdf-schema#> .\n",
      "@prefix schema: <https://schema.org/> .\n",
      "@prefix xsd: <http://www.w3.org/2001/XMLSchema#> .\n",
      "\n",
      "dbo:birthName a owl:DatatypeProperty .\n",
      "\n",
      "myOnto: a owl:Ontology ;\n",
      "    rdfs:comment \"An ontology for our 22 favorite songs\"@en .\n",
      "\n",
      "myOnto:hasName a owl:DatatypeProperty,\n",
      "        owl:FunctionalProperty ;\n",
      "    rdfs:label \"Name\"@en ;\n",
      "    rdfs:comment \"The name of a song or record label.\"@en ;\n",
      "    rdfs:domain myOnto:RecordCompany,\n",
      "        myOnto:Song ;\n",
      "    rdfs:range xsd:string .\n",
      "\n",
      "schema:Organization a owl:Class .\n",
      "\n",
      "dbo:Company a owl:Class .\n",
      "\n",
      "dbo:Song a owl:Class .\n",
      "\n",
      "dbo:artist a owl:ObjectProperty .\n",
      "\n",
      "dbo:genre a owl:ObjectProperty .\n",
      "\n",
      "dbo:producer a owl:ObjectProperty .\n",
      "\n",
      "dbo:recordLabel a owl:ObjectProperty .\n",
      "\n",
      "dbo:releaseDate a owl:DatatypeProperty .\n",
      "\n",
      "dbo:writer a owl:ObjectProperty .\n",
      "\n",
      "myOnto:Person a owl:Class ;\n",
      "    rdfs:label \"Person\"@en ;\n",
      "    rdfs:comment \"A class defining a person.\"@en ;\n",
      "    rdfs:subClassOf [ a owl:Restriction ;\n",
      "            owl:maxQualifiedCardinality \"1\"^^xsd:nonNegativeInteger ;\n",
      "            owl:onDataRange xsd:nonNegativeInteger ;\n",
      "            owl:onProperty myOnto:hasWikipageID ],\n",
      "        schema:Person .\n",
      "\n",
      "myOnto:RecordCompany a owl:Class ;\n",
      "    rdfs:label \"Record Company\"@en ;\n",
      "    rdfs:comment \"A class defining a record label.\"@en ;\n",
      "    rdfs:subClassOf dbo:Company .\n",
      "\n",
      "myOnto:Song a owl:Class ;\n",
      "    rdfs:label \"Song\"@en ;\n",
      "    rdfs:comment \"A class defining a song.\"@en ;\n",
      "    rdfs:subClassOf [ a owl:Restriction ;\n",
      "            owl:cardinality \"1\"^^xsd:nonNegativeInteger ;\n",
      "            owl:onDataRange xsd:date ;\n",
      "            owl:onProperty dbo:releaseDate ],\n",
      "        [ a owl:Restriction ;\n",
      "            owl:minCardinality \"1\"^^xsd:nonNegativeInteger ;\n",
      "            owl:onDataRange xsd:anyURI ;\n",
      "            owl:onProperty dbo:producer ],\n",
      "        [ a owl:Restriction ;\n",
      "            owl:minCardinality \"1\"^^xsd:nonNegativeInteger ;\n",
      "            owl:onDataRange xsd:anyURI ;\n",
      "            owl:onProperty dbo:genre ],\n",
      "        [ a owl:Restriction ;\n",
      "            owl:minCardinality \"1\"^^xsd:nonNegativeInteger ;\n",
      "            owl:onDataRange xsd:anyURI ;\n",
      "            owl:onProperty dbo:recordLabel ],\n",
      "        [ a owl:Restriction ;\n",
      "            owl:minCardinality \"1\"^^xsd:nonNegativeInteger ;\n",
      "            owl:onDataRange xsd:anyURI ;\n",
      "            owl:onProperty dbo:writer ],\n",
      "        [ a owl:Restriction ;\n",
      "            owl:minCardinality \"1\"^^xsd:nonNegativeInteger ;\n",
      "            owl:onDataRange xsd:anyURI ;\n",
      "            owl:onProperty dbo:artist ],\n",
      "        dbo:Song,\n",
      "        schema:MusicRecording .\n",
      "\n",
      "myOnto:hasWikipageID a owl:DatatypeProperty,\n",
      "        owl:FunctionalProperty,\n",
      "        owl:InverseFunctionalProperty ;\n",
      "    rdfs:label \"Wikipage ID\"@en ;\n",
      "    rdfs:comment \"The Wikipage ID of a person.\"@en ;\n",
      "    rdfs:domain myOnto:Person ;\n",
      "    rdfs:range xsd:integer .\n",
      "\n",
      "schema:MusicRecording a owl:Class .\n",
      "\n",
      "schema:Person a owl:Class .\n",
      "\n",
      "\n"
     ]
    }
   ],
   "source": [
    "# serialize as Turtle\n",
    "print(g.serialize(format=\"turtle\"))"
   ]
  },
  {
   "cell_type": "code",
   "execution_count": 12,
   "id": "409118fe",
   "metadata": {},
   "outputs": [],
   "source": [
    "# write the created graph as turtle into a file\n",
    "# import os\n",
    "# current_wdir = os.getcwd()\n",
    "# with open(os.path.join(current_wdir, \"classes_properties1.ttl\"), 'w') as outputFile:\n",
    "    # outputFile.write(g.serialize(format='turtle'))"
   ]
  },
  {
   "cell_type": "markdown",
   "id": "ace44ee4",
   "metadata": {},
   "source": [
    "### Adding triples to songs"
   ]
  },
  {
   "cell_type": "code",
   "execution_count": 13,
   "id": "097c32f2",
   "metadata": {},
   "outputs": [],
   "source": [
    "# create an empty graph for resources\n",
    "song_graph = Graph()"
   ]
  },
  {
   "cell_type": "code",
   "execution_count": 14,
   "id": "703e1a54",
   "metadata": {},
   "outputs": [],
   "source": [
    "# Bind prefixes\n",
    "song_graph.bind(\"mySemantics\", mySemantics) # adding prefix mysemantics\n",
    "song_graph.bind(\"dbr\", dbr)\n",
    "song_graph.bind(\"dbo\", dbo)\n",
    "song_graph.bind(\"myOnto\", myOnto)\n",
    "song_graph.bind('rdf', RDF)\n",
    "song_graph.bind('xsd', XSD)\n",
    "song_graph.bind('foaf', FOAF)\n",
    "song_graph.bind(\"myOnto\", myOnto) # Bind prefixes (namespace myOnto)"
   ]
  },
  {
   "cell_type": "code",
   "execution_count": 15,
   "id": "f8b9157f",
   "metadata": {},
   "outputs": [
    {
     "data": {
      "text/plain": [
       "'<http://dbpedia.org/resource/Best_Part_of_Me>'"
      ]
     },
     "execution_count": 15,
     "metadata": {},
     "output_type": "execute_result"
    }
   ],
   "source": [
    "# IRI for resource Best Part of Me\n",
    "BestPartOfMe = dbr.Best_Part_of_Me\n",
    "BestPartOfMe.n3()"
   ]
  },
  {
   "cell_type": "code",
   "execution_count": 16,
   "id": "3245104a",
   "metadata": {},
   "outputs": [
    {
     "data": {
      "text/plain": [
       "<Graph identifier=N7cfb068c188e4b34bbf01af12c6c7b38 (<class 'rdflib.graph.Graph'>)>"
      ]
     },
     "execution_count": 16,
     "metadata": {},
     "output_type": "execute_result"
    }
   ],
   "source": [
    "# add triples to the song 'Best Part of Me'\n",
    "song_graph.add((BestPartOfMe, RDF.type, Song))\n",
    "song_graph.add((BestPartOfMe, myOnto.hasName, Literal(\"Best Part of Me\", lang=\"en\")))\n",
    "song_graph.add((BestPartOfMe, dbo.releaseDate, Literal(\"2019-07-05\", datatype=XSD.date)))\n",
    "song_graph.add((BestPartOfMe, dbo.artist, dbr.Ed_Sheeran))\n",
    "song_graph.add((BestPartOfMe, dbo.writer, dbr.Benny_Blanco))\n",
    "song_graph.add((BestPartOfMe, dbo.writer, dbr.Ed_Sheeran))\n",
    "song_graph.add((BestPartOfMe, dbo.writer, dbr.Yebba))\n",
    "song_graph.add((BestPartOfMe, dbo.genre, dbr.Pop_music))\n",
    "song_graph.add((BestPartOfMe, dbo.recordLabel, dbr.Asylum_Records))\n",
    "song_graph.add((BestPartOfMe, dbo.recordLabel, dbr.Atlantic_Records))\n",
    "song_graph.add((BestPartOfMe, dbo.producer, dbr.Benny_Blanco))\n",
    "song_graph.add((BestPartOfMe, RDFS.label, Literal(\"Best Part of Me\", lang=\"en\")))\n",
    "song_graph.add((BestPartOfMe, RDFS.comment, Literal(\"A song by English singer-songwriter Ed Sheeran.\", lang=\"en\")))"
   ]
  },
  {
   "cell_type": "code",
   "execution_count": 17,
   "id": "9cb91265",
   "metadata": {},
   "outputs": [
    {
     "data": {
      "text/plain": [
       "'<http://dbpedia.org/resource/Lego_House>'"
      ]
     },
     "execution_count": 17,
     "metadata": {},
     "output_type": "execute_result"
    }
   ],
   "source": [
    "# IRI for resource Lego House\n",
    "LegoHouse = dbr.Lego_House\n",
    "LegoHouse.n3()"
   ]
  },
  {
   "cell_type": "code",
   "execution_count": 18,
   "id": "aaa0ae5f",
   "metadata": {},
   "outputs": [
    {
     "data": {
      "text/plain": [
       "<Graph identifier=N7cfb068c188e4b34bbf01af12c6c7b38 (<class 'rdflib.graph.Graph'>)>"
      ]
     },
     "execution_count": 18,
     "metadata": {},
     "output_type": "execute_result"
    }
   ],
   "source": [
    "# add triples to the song 'Lego House'\n",
    "song_graph.add((LegoHouse, RDF.type, Song))\n",
    "song_graph.add((LegoHouse, myOnto.hasName, Literal(\"Lego House\", lang=\"en\")))\n",
    "song_graph.add((LegoHouse, dbo.releaseDate, Literal(\"2011-11-11\", datatype=XSD.date)))\n",
    "song_graph.add((LegoHouse, dbo.artist, dbr.Ed_Sheeran))\n",
    "song_graph.add((LegoHouse, dbo.writer, dbr.Jake_Gosling))\n",
    "song_graph.add((LegoHouse, dbo.writer, dbr.Ed_Sheeran))\n",
    "song_graph.add((LegoHouse, dbo.genre, dbr.Pop_music))\n",
    "song_graph.add((LegoHouse, dbo.recordLabel, dbr.Warner_Music_Group))\n",
    "song_graph.add((LegoHouse, dbo.producer, dbr.Jake_Gosling))\n",
    "song_graph.add((LegoHouse, RDFS.label, Literal(\"Lego House\", lang=\"en\")))\n",
    "song_graph.add((LegoHouse, RDFS.comment, Literal(\"A song by English singer-songwriter Ed Sheeran.\", lang=\"en\")))"
   ]
  },
  {
   "cell_type": "code",
   "execution_count": 19,
   "id": "6c1bbf16",
   "metadata": {},
   "outputs": [
    {
     "data": {
      "text/plain": [
       "'<http://dbpedia.org/resource/Thinking_Out_Loud>'"
      ]
     },
     "execution_count": 19,
     "metadata": {},
     "output_type": "execute_result"
    }
   ],
   "source": [
    "# IRI for resource Think Out Loud\n",
    "ThinkOutLoud = dbr.Thinking_Out_Loud\n",
    "ThinkOutLoud.n3()"
   ]
  },
  {
   "cell_type": "code",
   "execution_count": 20,
   "id": "42d2d661",
   "metadata": {},
   "outputs": [
    {
     "data": {
      "text/plain": [
       "<Graph identifier=N7cfb068c188e4b34bbf01af12c6c7b38 (<class 'rdflib.graph.Graph'>)>"
      ]
     },
     "execution_count": 20,
     "metadata": {},
     "output_type": "execute_result"
    }
   ],
   "source": [
    "# add triples to the song 'Think Out Loud'\n",
    "song_graph.add((ThinkOutLoud, RDF.type, Song))\n",
    "song_graph.add((ThinkOutLoud, myOnto.hasName, Literal(\"Thinking Out Loud\", lang=\"en\")))\n",
    "song_graph.add((ThinkOutLoud, dbo.releaseDate, Literal(\"2014-09-24\", datatype=XSD.date)))\n",
    "song_graph.add((ThinkOutLoud, dbo.artist, dbr.Ed_Sheeran))\n",
    "song_graph.add((ThinkOutLoud, dbo.writer, dbr.Amy_Wadge))\n",
    "song_graph.add((ThinkOutLoud, dbo.writer, dbr.Ed_Sheeran))\n",
    "song_graph.add((ThinkOutLoud, dbo.genre, dbr.Soft_rock))\n",
    "song_graph.add((ThinkOutLoud, dbo.recordLabel, dbr.Asylum_Records))\n",
    "song_graph.add((ThinkOutLoud, dbo.recordLabel, dbr.Atlantic_Records))\n",
    "song_graph.add((ThinkOutLoud, dbo.producer, dbr.Jake_Gosling))\n",
    "song_graph.add((ThinkOutLoud, RDFS.label, Literal(\"Thinking Out Loud\", lang=\"en\")))\n",
    "song_graph.add((ThinkOutLoud, RDFS.comment, Literal(\"A song by English singer-songwriter Ed Sheeran.\", lang=\"en\")))"
   ]
  },
  {
   "cell_type": "code",
   "execution_count": 21,
   "id": "0beeed5b",
   "metadata": {},
   "outputs": [
    {
     "data": {
      "text/plain": [
       "'<http://dbpedia.org/resource/Rolling_in_the_Deep>'"
      ]
     },
     "execution_count": 21,
     "metadata": {},
     "output_type": "execute_result"
    }
   ],
   "source": [
    "# IRI for resource Rolling in the Deep\n",
    "RollingInTheDeep = dbr.Rolling_in_the_Deep\n",
    "RollingInTheDeep.n3()"
   ]
  },
  {
   "cell_type": "code",
   "execution_count": 22,
   "id": "5b684148",
   "metadata": {},
   "outputs": [
    {
     "data": {
      "text/plain": [
       "<Graph identifier=N7cfb068c188e4b34bbf01af12c6c7b38 (<class 'rdflib.graph.Graph'>)>"
      ]
     },
     "execution_count": 22,
     "metadata": {},
     "output_type": "execute_result"
    }
   ],
   "source": [
    "# add triples to the song 'Rolling in the Deep'\n",
    "song_graph.add((RollingInTheDeep, RDF.type, Song))\n",
    "song_graph.add((RollingInTheDeep, myOnto.hasName, Literal(\"Rolling in the Deep\", lang=\"en\")))\n",
    "song_graph.add((RollingInTheDeep, dbo.releaseDate, Literal(\"2010-11-29\", datatype=XSD.date)))\n",
    "song_graph.add((RollingInTheDeep, dbo.artist, dbr.Adele))\n",
    "song_graph.add((RollingInTheDeep, dbo.writer, dbr.Paul_Epworth))\n",
    "song_graph.add((RollingInTheDeep, dbo.writer, dbr.Adele))\n",
    "song_graph.add((RollingInTheDeep, dbo.genre, dbr.Soul_music))\n",
    "song_graph.add((RollingInTheDeep, dbo.recordLabel, dbr.Columbia_Records))\n",
    "song_graph.add((RollingInTheDeep, dbo.recordLabel, dbr.XL_Recordings))\n",
    "song_graph.add((RollingInTheDeep, dbo.producer, dbr.Paul_Epworth))\n",
    "song_graph.add((RollingInTheDeep, RDFS.label, Literal(\"Rolling in the Deep\", lang=\"en\")))\n",
    "song_graph.add((RollingInTheDeep, RDFS.comment, Literal(\"A song recorded by English singer-songwriter Adele for her second studio album.\", lang=\"en\")))"
   ]
  },
  {
   "cell_type": "code",
   "execution_count": 23,
   "id": "346cd44f",
   "metadata": {},
   "outputs": [
    {
     "data": {
      "text/plain": [
       "'<http://dbpedia.org/resource/Hometown_Glory>'"
      ]
     },
     "execution_count": 23,
     "metadata": {},
     "output_type": "execute_result"
    }
   ],
   "source": [
    "# IRI for resource Hometown Glory\n",
    "HometownGlory = dbr.Hometown_Glory\n",
    "HometownGlory.n3()"
   ]
  },
  {
   "cell_type": "code",
   "execution_count": 24,
   "id": "ea1a5851",
   "metadata": {},
   "outputs": [
    {
     "data": {
      "text/plain": [
       "<Graph identifier=N7cfb068c188e4b34bbf01af12c6c7b38 (<class 'rdflib.graph.Graph'>)>"
      ]
     },
     "execution_count": 24,
     "metadata": {},
     "output_type": "execute_result"
    }
   ],
   "source": [
    "# add triples to the song 'Hometown Glory'\n",
    "song_graph.add((HometownGlory, RDF.type, Song))\n",
    "song_graph.add((HometownGlory, myOnto.hasName, Literal(\"Hometown Glory\", lang=\"en\")))\n",
    "song_graph.add((HometownGlory, dbo.releaseDate, Literal(\"2007-10-22\", datatype=XSD.date)))\n",
    "song_graph.add((HometownGlory, dbo.artist, dbr.Adele))\n",
    "song_graph.add((HometownGlory, dbo.writer, dbr.Adele))\n",
    "song_graph.add((HometownGlory, dbo.genre, dbr.Soul_music))\n",
    "song_graph.add((HometownGlory, dbo.recordLabel, dbr.Columbia_Records))\n",
    "song_graph.add((HometownGlory, dbo.recordLabel, dbr.XL_Recordings))\n",
    "song_graph.add((HometownGlory, dbo.producer, dbr.Jim_Abbiss))\n",
    "song_graph.add((HometownGlory, RDFS.label, Literal(\"Hometown Glory\", lang=\"en\")))\n",
    "song_graph.add((HometownGlory, RDFS.comment, Literal(\"The debut single by English singer-songwriter Adele.\", lang=\"en\")))"
   ]
  },
  {
   "cell_type": "code",
   "execution_count": 25,
   "id": "d80517c9",
   "metadata": {},
   "outputs": [
    {
     "data": {
      "text/plain": [
       "'<http://dbpedia.org/resource/Easy_on_Me>'"
      ]
     },
     "execution_count": 25,
     "metadata": {},
     "output_type": "execute_result"
    }
   ],
   "source": [
    "# IRI for resource Easy on Me\n",
    "EasyOnMe = dbr.Easy_on_Me\n",
    "EasyOnMe.n3()"
   ]
  },
  {
   "cell_type": "code",
   "execution_count": 26,
   "id": "2b18558a",
   "metadata": {},
   "outputs": [
    {
     "data": {
      "text/plain": [
       "<Graph identifier=N7cfb068c188e4b34bbf01af12c6c7b38 (<class 'rdflib.graph.Graph'>)>"
      ]
     },
     "execution_count": 26,
     "metadata": {},
     "output_type": "execute_result"
    }
   ],
   "source": [
    "# add triples to the song 'Easy on Me'\n",
    "song_graph.add((EasyOnMe, RDF.type, Song))\n",
    "song_graph.add((EasyOnMe, myOnto.hasName, Literal(\"Easy on Me\", lang=\"en\")))\n",
    "song_graph.add((EasyOnMe, dbo.releaseDate, Literal(\"2021-10-15\", datatype=XSD.date)))\n",
    "song_graph.add((EasyOnMe, dbo.artist, dbr.Adele))\n",
    "song_graph.add((EasyOnMe, dbo.writer, dbr.Adele))\n",
    "song_graph.add((EasyOnMe, dbo.writer, dbr.Greg_Kurstin))\n",
    "song_graph.add((EasyOnMe, dbo.genre, dbr.Pop_music))\n",
    "song_graph.add((EasyOnMe, dbo.recordLabel, dbr.Columbia_Records))\n",
    "song_graph.add((EasyOnMe, dbo.producer, dbr.Greg_Kurstin))\n",
    "song_graph.add((EasyOnMe, RDFS.label, Literal(\"Easy on Me\", lang=\"en\")))\n",
    "song_graph.add((EasyOnMe, RDFS.comment, Literal(\"A song by English singer Adele from her fourth studio album.\", lang=\"en\")))"
   ]
  },
  {
   "cell_type": "code",
   "execution_count": 27,
   "id": "31d90e2b",
   "metadata": {},
   "outputs": [
    {
     "data": {
      "text/plain": [
       "'<http://dbpedia.org/resource/Nothing_Is_Promised>'"
      ]
     },
     "execution_count": 27,
     "metadata": {},
     "output_type": "execute_result"
    }
   ],
   "source": [
    "# IRI for resource Nothing Is Promised\n",
    "NothingIsPromised = dbr.Nothing_Is_Promised\n",
    "NothingIsPromised.n3()"
   ]
  },
  {
   "cell_type": "code",
   "execution_count": 28,
   "id": "2e6a4a4a",
   "metadata": {},
   "outputs": [
    {
     "data": {
      "text/plain": [
       "<Graph identifier=N7cfb068c188e4b34bbf01af12c6c7b38 (<class 'rdflib.graph.Graph'>)>"
      ]
     },
     "execution_count": 28,
     "metadata": {},
     "output_type": "execute_result"
    }
   ],
   "source": [
    "# add triples to the song 'Nothing Is Promised'\n",
    "song_graph.add((NothingIsPromised, RDF.type, Song))\n",
    "song_graph.add((NothingIsPromised, myOnto.hasName, Literal(\"Nothing Is Promised\", lang=\"en\")))\n",
    "song_graph.add((NothingIsPromised, dbo.releaseDate, Literal(\"2016-06-03\", datatype=XSD.date)))\n",
    "song_graph.add((NothingIsPromised, dbo.artist, dbr.Rihanna))\n",
    "song_graph.add((NothingIsPromised, dbo.writer, dbr.Mike_Will_Made_It))\n",
    "song_graph.add((NothingIsPromised, dbo.writer, dbr.Greg_Kurstin))\n",
    "song_graph.add((NothingIsPromised, dbo.genre, dbr.Hip_hop_music))\n",
    "song_graph.add((NothingIsPromised, dbo.recordLabel, dbr.Rihanna))\n",
    "song_graph.add((NothingIsPromised, dbo.recordLabel, dbr.Interscope_Records))\n",
    "song_graph.add((NothingIsPromised, dbo.producer, dbr.Mike_Will_Made_It))\n",
    "song_graph.add((NothingIsPromised, RDFS.label, Literal(\"Nothing Is Promised\", lang=\"en\")))\n",
    "song_graph.add((NothingIsPromised, RDFS.comment, Literal(\"A song recorded by American producer Mike Will Made It and Barbadian recording artist Rihanna.\", lang=\"en\")))"
   ]
  },
  {
   "cell_type": "code",
   "execution_count": 29,
   "id": "2a99262b",
   "metadata": {},
   "outputs": [
    {
     "data": {
      "text/plain": [
       "'<http://dbpedia.org/resource/We_Found_Love>'"
      ]
     },
     "execution_count": 29,
     "metadata": {},
     "output_type": "execute_result"
    }
   ],
   "source": [
    "# IRI for resource We Found Love\n",
    "WeFoundLove = dbr.We_Found_Love\n",
    "WeFoundLove.n3()"
   ]
  },
  {
   "cell_type": "code",
   "execution_count": 30,
   "id": "c775a7e4",
   "metadata": {},
   "outputs": [
    {
     "data": {
      "text/plain": [
       "<Graph identifier=N7cfb068c188e4b34bbf01af12c6c7b38 (<class 'rdflib.graph.Graph'>)>"
      ]
     },
     "execution_count": 30,
     "metadata": {},
     "output_type": "execute_result"
    }
   ],
   "source": [
    "# add triples to the song 'We Found Love'\n",
    "song_graph.add((WeFoundLove, RDF.type, Song))\n",
    "song_graph.add((WeFoundLove, myOnto.hasName, Literal(\"We Found Love\", lang=\"en\")))\n",
    "song_graph.add((WeFoundLove, dbo.releaseDate, Literal(\"2011-09-22\", datatype=XSD.date)))\n",
    "song_graph.add((WeFoundLove, dbo.artist, dbr.Rihanna))\n",
    "song_graph.add((WeFoundLove, dbo.writer, dbr.Calvin_Harris))\n",
    "song_graph.add((WeFoundLove, dbo.genre, dbr.Electro_house))\n",
    "song_graph.add((WeFoundLove, dbo.recordLabel, dbr.Def_Jam_Recordings))\n",
    "song_graph.add((WeFoundLove, dbo.producer, dbr.Calvin_Harris))\n",
    "song_graph.add((WeFoundLove, RDFS.label, Literal(\"We Found Love\", lang=\"en\")))\n",
    "song_graph.add((WeFoundLove, RDFS.comment, Literal(\"A song by Barbadian singer Rihanna from her sixth studio album.\", lang=\"en\")))"
   ]
  },
  {
   "cell_type": "code",
   "execution_count": 31,
   "id": "f8992a20",
   "metadata": {},
   "outputs": [
    {
     "data": {
      "text/plain": [
       "'<http://dbpedia.org/resource/Santa_Tell_Me>'"
      ]
     },
     "execution_count": 31,
     "metadata": {},
     "output_type": "execute_result"
    }
   ],
   "source": [
    "# IRI for resource Santa Tell Me\n",
    "SantaTellMe = dbr.Santa_Tell_Me\n",
    "SantaTellMe.n3()"
   ]
  },
  {
   "cell_type": "code",
   "execution_count": 32,
   "id": "63487629",
   "metadata": {},
   "outputs": [
    {
     "data": {
      "text/plain": [
       "<Graph identifier=N7cfb068c188e4b34bbf01af12c6c7b38 (<class 'rdflib.graph.Graph'>)>"
      ]
     },
     "execution_count": 32,
     "metadata": {},
     "output_type": "execute_result"
    }
   ],
   "source": [
    "# add triples to the song 'Santa Tell Me'\n",
    "song_graph.add((SantaTellMe, RDF.type, Song))\n",
    "song_graph.add((SantaTellMe, myOnto.hasName, Literal(\"Santa Tell Me\", lang=\"en\")))\n",
    "song_graph.add((SantaTellMe, dbo.releaseDate, Literal(\"2014-11-24\", datatype=XSD.date)))\n",
    "song_graph.add((SantaTellMe, dbo.artist, dbr.Ariana_Grande))\n",
    "song_graph.add((SantaTellMe, dbo.writer, dbr.Ilya_Salmanzadeh))\n",
    "song_graph.add((SantaTellMe, dbo.writer, dbr.Savan_Kotecha))\n",
    "song_graph.add((SantaTellMe, dbo.genre, dbr.Pop_music))\n",
    "song_graph.add((SantaTellMe, dbo.recordLabel, dbr.Republic_Records))\n",
    "song_graph.add((SantaTellMe, dbo.producer, dbr.Ilya_Salmanzadeh))\n",
    "song_graph.add((SantaTellMe, RDFS.label, Literal(\"Santa Tell Me\", lang=\"en\")))\n",
    "song_graph.add((SantaTellMe, RDFS.comment, Literal(\"A Christmas song recorded by American singer Ariana Grande.\", lang=\"en\")))"
   ]
  },
  {
   "cell_type": "code",
   "execution_count": 33,
   "id": "1c76fae4",
   "metadata": {},
   "outputs": [
    {
     "data": {
      "text/plain": [
       "'<http://dbpedia.org/resource/The_Light_Is_Coming>'"
      ]
     },
     "execution_count": 33,
     "metadata": {},
     "output_type": "execute_result"
    }
   ],
   "source": [
    "# IRI for resource The Light Is Coming\n",
    "TheLightIsComing = dbr.The_Light_Is_Coming\n",
    "TheLightIsComing.n3()"
   ]
  },
  {
   "cell_type": "code",
   "execution_count": 34,
   "id": "f1de0aff",
   "metadata": {},
   "outputs": [
    {
     "data": {
      "text/plain": [
       "<Graph identifier=N7cfb068c188e4b34bbf01af12c6c7b38 (<class 'rdflib.graph.Graph'>)>"
      ]
     },
     "execution_count": 34,
     "metadata": {},
     "output_type": "execute_result"
    }
   ],
   "source": [
    "# add triples to the song 'The Light Is Coming'\n",
    "song_graph.add((TheLightIsComing, RDF.type, Song))\n",
    "song_graph.add((TheLightIsComing, myOnto.hasName, Literal(\"The Light Is Coming\", lang=\"en\")))\n",
    "song_graph.add((TheLightIsComing, dbo.releaseDate, Literal(\"2018-06-20\", datatype=XSD.date)))\n",
    "song_graph.add((TheLightIsComing, dbo.artist, dbr.Ariana_Grande))\n",
    "song_graph.add((TheLightIsComing, dbo.writer, dbr.Pharrell_Williams))\n",
    "song_graph.add((TheLightIsComing, dbo.writer, dbr.Nicki_Minaj))\n",
    "song_graph.add((TheLightIsComing, dbo.genre, dbr.Dance_music))\n",
    "song_graph.add((TheLightIsComing, dbo.recordLabel, dbr.Republic_Records))\n",
    "song_graph.add((TheLightIsComing, dbo.producer, dbr.Pharrell_Williams))\n",
    "song_graph.add((TheLightIsComing, RDFS.label, Literal(\"The Light Is Coming\", lang=\"en\")))\n",
    "song_graph.add((TheLightIsComing, RDFS.comment, Literal(\"A song by American singer Ariana Grande, featuring American rapper Nicki Minaj.\", lang=\"en\")))"
   ]
  },
  {
   "cell_type": "code",
   "execution_count": 35,
   "id": "cc5b3261",
   "metadata": {},
   "outputs": [
    {
     "data": {
      "text/plain": [
       "'<http://dbpedia.org/resource/Freestyle_4>'"
      ]
     },
     "execution_count": 35,
     "metadata": {},
     "output_type": "execute_result"
    }
   ],
   "source": [
    "# IRI for resource Freestyle 4\n",
    "Freestyle4 = dbr.Freestyle_4\n",
    "Freestyle4.n3()"
   ]
  },
  {
   "cell_type": "code",
   "execution_count": 36,
   "id": "d3a2e6f6",
   "metadata": {},
   "outputs": [
    {
     "data": {
      "text/plain": [
       "<Graph identifier=N7cfb068c188e4b34bbf01af12c6c7b38 (<class 'rdflib.graph.Graph'>)>"
      ]
     },
     "execution_count": 36,
     "metadata": {},
     "output_type": "execute_result"
    }
   ],
   "source": [
    "# Add triples to the song 'Freestyle 4'\n",
    "song_graph.add((Freestyle4, RDF.type, Song))\n",
    "song_graph.add((Freestyle4, myOnto.hasName, Literal(\"Freestyle 4\", lang=\"en\")))\n",
    "song_graph.add((Freestyle4, dbo.releaseDate, Literal(\"2016-02-14\", datatype=XSD.date)))\n",
    "song_graph.add((Freestyle4, dbo.artist, dbr.Kanye_West))\n",
    "song_graph.add((Freestyle4, dbo.writer, dbr.Caroline_Shaw))\n",
    "song_graph.add((Freestyle4, dbo.writer, dbr.Desiigner))\n",
    "song_graph.add((Freestyle4, dbo.writer, dbr.Hudson_Mohawke))\n",
    "song_graph.add((Freestyle4, dbo.writer, dbr.Will_Gregory))\n",
    "song_graph.add((Freestyle4, dbo.writer, dbr.Alison_Goldfrapp))\n",
    "song_graph.add((Freestyle4, dbo.writer, dbr.Kanye_West))\n",
    "song_graph.add((Freestyle4, dbo.genre, dbr.Progressive_hop))\n",
    "song_graph.add((Freestyle4, dbo.recordLabel, dbr.Def_Jam_Recordings))\n",
    "song_graph.add((Freestyle4, dbo.recordLabel, dbr.GOOD_Music))\n",
    "song_graph.add((Freestyle4, dbo.producer, dbr.Hudson_Mohawke))\n",
    "song_graph.add((Freestyle4, RDFS.label, Literal(\"Freestyle 4\", lang=\"en\")))\n",
    "song_graph.add((Freestyle4, RDFS.comment, Literal(\"A song by American hip-hop artist Kanye West that features vocals from rapper Desiigner.\", lang=\"en\")))"
   ]
  },
  {
   "cell_type": "code",
   "execution_count": 37,
   "id": "99e2bb11",
   "metadata": {},
   "outputs": [
    {
     "data": {
      "text/plain": [
       "'<http://dbpedia.org/resource/Blank_Space>'"
      ]
     },
     "execution_count": 37,
     "metadata": {},
     "output_type": "execute_result"
    }
   ],
   "source": [
    "# IRI for resource Blank Space\n",
    "BlankSpace = dbr.Blank_Space\n",
    "BlankSpace.n3()"
   ]
  },
  {
   "cell_type": "code",
   "execution_count": 38,
   "id": "bd9c93eb",
   "metadata": {},
   "outputs": [
    {
     "data": {
      "text/plain": [
       "<Graph identifier=N7cfb068c188e4b34bbf01af12c6c7b38 (<class 'rdflib.graph.Graph'>)>"
      ]
     },
     "execution_count": 38,
     "metadata": {},
     "output_type": "execute_result"
    }
   ],
   "source": [
    "# Add triples to the song 'Blank Space'\n",
    "song_graph.add((BlankSpace, RDF.type, Song))\n",
    "song_graph.add((BlankSpace, myOnto.hasName, Literal(\"Blank Space\", lang=\"en\")))\n",
    "song_graph.add((BlankSpace, dbo.releaseDate, Literal(\"2014-11-10\", datatype=XSD.date)))\n",
    "song_graph.add((BlankSpace, dbo.artist, dbr.Taylor_Swift))\n",
    "song_graph.add((BlankSpace, dbo.writer, dbr.Max_Martin))\n",
    "song_graph.add((BlankSpace, dbo.genre, dbr.Electropop))\n",
    "song_graph.add((BlankSpace, dbo.recordLabel, dbr.Big_Machine_Records))\n",
    "song_graph.add((BlankSpace, dbo.producer, dbr.Max_Martin))\n",
    "song_graph.add((BlankSpace, RDFS.label, Literal(\"Blank Space\", lang=\"en\")))\n",
    "song_graph.add((BlankSpace, RDFS.comment, Literal(\"A song by American singer-songwriter Taylor Swift.\", lang=\"en\")))"
   ]
  },
  {
   "cell_type": "code",
   "execution_count": 39,
   "id": "3db3e808",
   "metadata": {},
   "outputs": [
    {
     "data": {
      "text/plain": [
       "'<http://dbpedia.org/resource/Same_Old_Love>'"
      ]
     },
     "execution_count": 39,
     "metadata": {},
     "output_type": "execute_result"
    }
   ],
   "source": [
    "# IRI for resource Same Old Love\n",
    "SameOldLove = dbr.Same_Old_Love\n",
    "SameOldLove.n3()"
   ]
  },
  {
   "cell_type": "code",
   "execution_count": 40,
   "id": "b83e6bee",
   "metadata": {},
   "outputs": [
    {
     "data": {
      "text/plain": [
       "<Graph identifier=N7cfb068c188e4b34bbf01af12c6c7b38 (<class 'rdflib.graph.Graph'>)>"
      ]
     },
     "execution_count": 40,
     "metadata": {},
     "output_type": "execute_result"
    }
   ],
   "source": [
    "# Add triples to the song 'Same Old Love'\n",
    "song_graph.add((SameOldLove, RDF.type, Song))\n",
    "song_graph.add((SameOldLove, myOnto.hasName, Literal(\"Same Old Love\", lang=\"en\")))\n",
    "song_graph.add((SameOldLove, dbo.releaseDate, Literal(\"2015-09-10\", datatype=XSD.date)))\n",
    "song_graph.add((SameOldLove, dbo.artist, dbr.Selena_Gomez))\n",
    "song_graph.add((SameOldLove, dbo.writer, dbr.Ross_Golan))\n",
    "song_graph.add((SameOldLove, dbo.writer, dbr.Benny_Blanco))\n",
    "song_graph.add((SameOldLove, dbo.writer, dbr.Charli_XCX))\n",
    "song_graph.add((SameOldLove, dbo.genre, dbr.Electropop))\n",
    "song_graph.add((SameOldLove, dbo.recordLabel, dbr.Universal_Music_Group))\n",
    "song_graph.add((SameOldLove, dbo.producer, dbr.Benny_Blanco))\n",
    "song_graph.add((SameOldLove, RDFS.label, Literal(\"Same Old Love\", lang=\"en\")))\n",
    "song_graph.add((SameOldLove, RDFS.comment, Literal(\"A song recorded by American singer Selena Gomez.\", lang=\"en\")))"
   ]
  },
  {
   "cell_type": "code",
   "execution_count": 41,
   "id": "2e8ffee9",
   "metadata": {},
   "outputs": [
    {
     "data": {
      "text/plain": [
       "'<http://dbpedia.org/resource/De_Una_Vez>'"
      ]
     },
     "execution_count": 41,
     "metadata": {},
     "output_type": "execute_result"
    }
   ],
   "source": [
    "# IRI for resource De Una Vez\n",
    "DeUnaVez = dbr.De_Una_Vez\n",
    "DeUnaVez.n3()"
   ]
  },
  {
   "cell_type": "code",
   "execution_count": 42,
   "id": "0e50a3f1",
   "metadata": {},
   "outputs": [
    {
     "data": {
      "text/plain": [
       "<Graph identifier=N7cfb068c188e4b34bbf01af12c6c7b38 (<class 'rdflib.graph.Graph'>)>"
      ]
     },
     "execution_count": 42,
     "metadata": {},
     "output_type": "execute_result"
    }
   ],
   "source": [
    "# Add triples to the song 'De Una Vez'\n",
    "song_graph.add((DeUnaVez, RDF.type, Song))\n",
    "song_graph.add((DeUnaVez, myOnto.hasName, Literal(\"De Una Vez\", lang=\"en\")))\n",
    "song_graph.add((DeUnaVez, dbo.releaseDate, Literal(\"2021-01-14\", datatype=XSD.date)))\n",
    "song_graph.add((DeUnaVez, dbo.artist, dbr.Selena_Gomez))\n",
    "song_graph.add((DeUnaVez, dbo.writer, dbr.Elena_Rose))\n",
    "song_graph.add((DeUnaVez, dbo.writer, dbr.Tainy))\n",
    "song_graph.add((DeUnaVez, dbo.genre, dbr.Pop_music))\n",
    "song_graph.add((DeUnaVez, dbo.recordLabel, dbr.Interscope_Records))\n",
    "song_graph.add((DeUnaVez, dbo.producer, dbr.Tainy))\n",
    "song_graph.add((DeUnaVez, RDFS.label, Literal(\"De Una Vez\", lang=\"en\")))\n",
    "song_graph.add((DeUnaVez, RDFS.comment, Literal(\"A song recorded by American singer Selena Gomez.\", lang=\"en\")))"
   ]
  },
  {
   "cell_type": "code",
   "execution_count": 43,
   "id": "32edf5cd",
   "metadata": {},
   "outputs": [
    {
     "data": {
      "text/plain": [
       "'<http://dbpedia.org/resource/Look_What_You_Made_Me_Do>'"
      ]
     },
     "execution_count": 43,
     "metadata": {},
     "output_type": "execute_result"
    }
   ],
   "source": [
    "# IRI for resource Look What You Made Me Do\n",
    "LookWhatYouMadeMeDo = dbr.Look_What_You_Made_Me_Do\n",
    "LookWhatYouMadeMeDo.n3()"
   ]
  },
  {
   "cell_type": "code",
   "execution_count": 44,
   "id": "3b9cb30f",
   "metadata": {},
   "outputs": [
    {
     "data": {
      "text/plain": [
       "<Graph identifier=N7cfb068c188e4b34bbf01af12c6c7b38 (<class 'rdflib.graph.Graph'>)>"
      ]
     },
     "execution_count": 44,
     "metadata": {},
     "output_type": "execute_result"
    }
   ],
   "source": [
    "# Add triples to the song 'Look What You Made Me Do'\n",
    "song_graph.add((LookWhatYouMadeMeDo, RDF.type, Song))\n",
    "song_graph.add((LookWhatYouMadeMeDo, myOnto.hasName, Literal(\"Look What You Made Me Do\", lang=\"en\")))\n",
    "song_graph.add((LookWhatYouMadeMeDo, dbo.releaseDate, Literal(\"2017-08-24\", datatype=XSD.date)))\n",
    "song_graph.add((LookWhatYouMadeMeDo, dbo.artist, dbr.Taylor_Swift))\n",
    "song_graph.add((LookWhatYouMadeMeDo, dbo.writer, dbr.Richard_Fairbrass))\n",
    "song_graph.add((LookWhatYouMadeMeDo, dbo.writer, dbr.Jack_Antonoff))\n",
    "song_graph.add((LookWhatYouMadeMeDo, dbo.genre, dbr.Electropop))\n",
    "song_graph.add((LookWhatYouMadeMeDo, dbo.recordLabel, dbr.Big_Machine_Records))\n",
    "song_graph.add((LookWhatYouMadeMeDo, dbo.producer, dbr.Jack_Antonoff))\n",
    "song_graph.add((LookWhatYouMadeMeDo, dbo.producer, dbr.Taylor_Swift))\n",
    "song_graph.add((LookWhatYouMadeMeDo, RDFS.label, Literal(\"Look What You Made Me Do\", lang=\"en\")))\n",
    "song_graph.add((LookWhatYouMadeMeDo, RDFS.comment, Literal(\"A song recorded by American singer-songwriter Taylor Swift.\", lang=\"en\")))"
   ]
  },
  {
   "cell_type": "code",
   "execution_count": 45,
   "id": "9a736f35",
   "metadata": {},
   "outputs": [
    {
     "data": {
      "text/plain": [
       "'<http://dbpedia.org/resource/Summertime_Sadness>'"
      ]
     },
     "execution_count": 45,
     "metadata": {},
     "output_type": "execute_result"
    }
   ],
   "source": [
    "# IRI for resource Summertime Sadness\n",
    "SummertimeSadness = dbr.Summertime_Sadness\n",
    "SummertimeSadness.n3()"
   ]
  },
  {
   "cell_type": "code",
   "execution_count": 46,
   "id": "51d69c5e",
   "metadata": {},
   "outputs": [
    {
     "data": {
      "text/plain": [
       "<Graph identifier=N7cfb068c188e4b34bbf01af12c6c7b38 (<class 'rdflib.graph.Graph'>)>"
      ]
     },
     "execution_count": 46,
     "metadata": {},
     "output_type": "execute_result"
    }
   ],
   "source": [
    "# Add triples to the song 'Summertime Sadness'\n",
    "song_graph.add((SummertimeSadness, RDF.type, Song))\n",
    "song_graph.add((SummertimeSadness, myOnto.hasName, Literal(\"Summertime Sadness\", lang=\"en\")))\n",
    "song_graph.add((SummertimeSadness, dbo.releaseDate, Literal(\"2012-06-22\", datatype=XSD.date)))\n",
    "song_graph.add((SummertimeSadness, dbo.artist, dbr.Lana_Del_Rey))\n",
    "song_graph.add((SummertimeSadness, dbo.writer, dbr.Rick_Nowels))\n",
    "song_graph.add((SummertimeSadness, dbo.genre, dbr.Pop_music))\n",
    "song_graph.add((SummertimeSadness, dbo.recordLabel, dbr.Interscope_Records))\n",
    "song_graph.add((SummertimeSadness, dbo.producer, dbr.Emile_Haynie))\n",
    "song_graph.add((SummertimeSadness, RDFS.label, Literal(\"Summertime Sadness\", lang=\"en\")))\n",
    "song_graph.add((SummertimeSadness, RDFS.comment, Literal(\"A song by Lana Del Rey from her second major-label studio album.\", lang=\"en\")))"
   ]
  },
  {
   "cell_type": "code",
   "execution_count": 47,
   "id": "550a6b1d",
   "metadata": {},
   "outputs": [
    {
     "data": {
      "text/plain": [
       "'<http://dbpedia.org/resource/Shades_of_Cool>'"
      ]
     },
     "execution_count": 47,
     "metadata": {},
     "output_type": "execute_result"
    }
   ],
   "source": [
    "# IRI for resource Shades of Cool\n",
    "ShadesOfCool = dbr.Shades_of_Cool\n",
    "ShadesOfCool.n3()"
   ]
  },
  {
   "cell_type": "code",
   "execution_count": 48,
   "id": "0543ace8",
   "metadata": {},
   "outputs": [
    {
     "data": {
      "text/plain": [
       "<Graph identifier=N7cfb068c188e4b34bbf01af12c6c7b38 (<class 'rdflib.graph.Graph'>)>"
      ]
     },
     "execution_count": 48,
     "metadata": {},
     "output_type": "execute_result"
    }
   ],
   "source": [
    "# Add triples to the song 'Summertime Sadness'\n",
    "song_graph.add((ShadesOfCool, RDF.type, Song))\n",
    "song_graph.add((ShadesOfCool, myOnto.hasName, Literal(\"Shades of Cool\", lang=\"en\")))\n",
    "song_graph.add((ShadesOfCool, dbo.releaseDate, Literal(\"2014-05-26\", datatype=XSD.date)))\n",
    "song_graph.add((ShadesOfCool, dbo.artist, dbr.Lana_Del_Rey))\n",
    "song_graph.add((ShadesOfCool, dbo.writer, dbr.Rick_Nowels))\n",
    "song_graph.add((ShadesOfCool, dbo.genre, dbr.Pop_music))\n",
    "song_graph.add((ShadesOfCool, dbo.recordLabel, dbr.Interscope_Records))\n",
    "song_graph.add((ShadesOfCool, dbo.producer, dbr.Dan_Auerbach))\n",
    "song_graph.add((ShadesOfCool, RDFS.label, Literal(\"Shades of Cool\", lang=\"en\")))\n",
    "song_graph.add((ShadesOfCool, RDFS.comment, Literal(\"A song by American singer-songwriter Lana Del Rey.\", lang=\"en\")))"
   ]
  },
  {
   "cell_type": "markdown",
   "id": "45e64e5f",
   "metadata": {},
   "source": [
    "### Define new resources"
   ]
  },
  {
   "cell_type": "code",
   "execution_count": 49,
   "id": "573c7228",
   "metadata": {},
   "outputs": [
    {
     "data": {
      "text/plain": [
       "<Graph identifier=N7cfb068c188e4b34bbf01af12c6c7b38 (<class 'rdflib.graph.Graph'>)>"
      ]
     },
     "execution_count": 49,
     "metadata": {},
     "output_type": "execute_result"
    }
   ],
   "source": [
    "# IRI for resource Black Beauty\n",
    "song_graph.bind(\"\", mySemantics)\n",
    "BlackBeauty = mySemantics.BlackBeauty\n",
    "song_graph.add((BlackBeauty, RDF.type, Song))\n",
    "song_graph.add((BlackBeauty, myOnto.hasName, Literal(\"Black Beauty\", lang=\"en\")))\n",
    "song_graph.add((BlackBeauty, dbo.releaseDate, Literal(\"2014-11-21\", datatype=XSD.date)))\n",
    "song_graph.add((BlackBeauty, dbo.artist, dbr.Lana_Del_Rey))\n",
    "song_graph.add((BlackBeauty, dbo.writer, dbr.Lana_Del_Rey))\n",
    "song_graph.add((BlackBeauty, dbo.writer, dbr.Rick_Nowels))\n",
    "song_graph.add((BlackBeauty, dbo.genre, dbr.Electronic_music))\n",
    "song_graph.add((BlackBeauty, dbo.recordLabel, dbr.Universal_Music_Group))\n",
    "song_graph.add((BlackBeauty, dbo.producer, dbr.Paul_Epworth))\n",
    "song_graph.add((BlackBeauty, RDFS.label, Literal(\"Black Beauty\", lang=\"en\")))\n",
    "song_graph.add((BlackBeauty, RDFS.comment, Literal(\"A song by Lana Del Rey from her second major-label studio album.\", lang=\"en\")))"
   ]
  },
  {
   "cell_type": "code",
   "execution_count": 50,
   "id": "8502b172",
   "metadata": {},
   "outputs": [
    {
     "data": {
      "text/plain": [
       "<Graph identifier=N7cfb068c188e4b34bbf01af12c6c7b38 (<class 'rdflib.graph.Graph'>)>"
      ]
     },
     "execution_count": 50,
     "metadata": {},
     "output_type": "execute_result"
    }
   ],
   "source": [
    "# IRI for resource Fire\n",
    "song_graph.bind(\"\", mySemantics)\n",
    "Fire = mySemantics.Fire\n",
    "song_graph.add((Fire, RDF.type, Song))\n",
    "song_graph.add((Fire, myOnto.hasName, Literal(\"Fire\", lang=\"en\")))\n",
    "song_graph.add((Fire, dbo.releaseDate, Literal(\"2014-08-12\", datatype=XSD.date)))\n",
    "song_graph.add((Fire, dbo.artist, dbr.Gavin_DeGraw))\n",
    "song_graph.add((Fire, dbo.writer, dbr.Gavin_DeGraw))\n",
    "song_graph.add((Fire, dbo.genre, dbr.Pop_music))\n",
    "song_graph.add((Fire, dbo.recordLabel, dbr.RCA_Records))\n",
    "song_graph.add((Fire, dbo.producer, dbr.Max_Martin))\n",
    "song_graph.add((Fire, RDFS.label, Literal(\"Fire\", lang=\"en\")))\n",
    "song_graph.add((Fire, RDFS.comment, Literal(\"A song by an American singer-songwriter Gavin DeGraw.\", lang=\"en\")))"
   ]
  },
  {
   "cell_type": "code",
   "execution_count": 51,
   "id": "81fd4357",
   "metadata": {},
   "outputs": [
    {
     "data": {
      "text/plain": [
       "<Graph identifier=N7cfb068c188e4b34bbf01af12c6c7b38 (<class 'rdflib.graph.Graph'>)>"
      ]
     },
     "execution_count": 51,
     "metadata": {},
     "output_type": "execute_result"
    }
   ],
   "source": [
    "# IRI for resource Flowers\n",
    "song_graph.bind(\"\", mySemantics)\n",
    "Flowers = mySemantics.Flowers\n",
    "song_graph.add((Flowers, RDF.type, Song))\n",
    "song_graph.add((Flowers, myOnto.hasName, Literal(\"Flowers\", lang=\"en\")))\n",
    "song_graph.add((Flowers, dbo.releaseDate, Literal(\"2023-01-12\", datatype=XSD.date)))\n",
    "song_graph.add((Flowers, dbo.artist, dbr.Miley_Cyrus))\n",
    "song_graph.add((Flowers, dbo.writer, dbr.Miley_Cyrus))\n",
    "song_graph.add((Flowers, dbo.writer, dbr.Michael_Pollack))\n",
    "song_graph.add((Flowers, dbo.genre, dbr.Funk))\n",
    "song_graph.add((Flowers, dbo.recordLabel, dbr.Columbia_Records))\n",
    "song_graph.add((Flowers, dbo.producer, dbr.Kid_Harpoon))\n",
    "song_graph.add((Flowers, RDFS.label, Literal(\"Flowers\", lang=\"en\")))\n",
    "song_graph.add((Flowers, RDFS.comment, Literal(\"A song by American singer Miley Cyrus.\", lang=\"en\")))"
   ]
  },
  {
   "cell_type": "code",
   "execution_count": 52,
   "id": "d6e5cba2",
   "metadata": {},
   "outputs": [
    {
     "data": {
      "text/plain": [
       "<Graph identifier=N7cfb068c188e4b34bbf01af12c6c7b38 (<class 'rdflib.graph.Graph'>)>"
      ]
     },
     "execution_count": 52,
     "metadata": {},
     "output_type": "execute_result"
    }
   ],
   "source": [
    "# IRI for resource Dance the Night\n",
    "song_graph.bind(\"\", mySemantics)\n",
    "DancetheNight = mySemantics.DancetheNight\n",
    "song_graph.add((DancetheNight, RDF.type, Song))\n",
    "song_graph.add((DancetheNight, myOnto.hasName, Literal(\"Dance the Night\", lang=\"en\")))\n",
    "song_graph.add((DancetheNight, dbo.releaseDate, Literal(\"2023-05-25\", datatype=XSD.date)))\n",
    "song_graph.add((DancetheNight, dbo.artist, dbr.Dua_Lipa))\n",
    "song_graph.add((DancetheNight, dbo.writer, dbr.Dua_Lipa))\n",
    "song_graph.add((DancetheNight, dbo.writer, dbr.Andrew_Wyatt))\n",
    "song_graph.add((DancetheNight, dbo.writer, dbr.Caroline_Ailin))\n",
    "song_graph.add((DancetheNight, dbo.writer, dbr.Mark_Ronson))\n",
    "song_graph.add((DancetheNight, dbo.genre, dbr.Disco))\n",
    "song_graph.add((DancetheNight, dbo.recordLabel, dbr.Atlantic_Records))\n",
    "song_graph.add((DancetheNight, dbo.producer, dbr.Andrew_Wyatt))\n",
    "song_graph.add((DancetheNight, dbo.producer, dbr.Mark_Ronson))\n",
    "song_graph.add((DancetheNight, RDFS.label, Literal(\"Dance the Night\", lang=\"en\")))\n",
    "song_graph.add((DancetheNight, RDFS.comment, Literal(\"A song by English and Albanian singer Dua Lipa.\", lang=\"en\")))"
   ]
  },
  {
   "cell_type": "code",
   "execution_count": 53,
   "id": "9c6b6e0c",
   "metadata": {},
   "outputs": [
    {
     "data": {
      "text/plain": [
       "<Graph identifier=N7cfb068c188e4b34bbf01af12c6c7b38 (<class 'rdflib.graph.Graph'>)>"
      ]
     },
     "execution_count": 53,
     "metadata": {},
     "output_type": "execute_result"
    }
   ],
   "source": [
    "# IRI for resource Say Yes to Heaven\n",
    "song_graph.bind(\"\", mySemantics)\n",
    "SayYesToHeaven = mySemantics.SayYesToHeaven\n",
    "song_graph.add((SayYesToHeaven, RDF.type, Song))\n",
    "song_graph.add((SayYesToHeaven, myOnto.hasName, Literal(\"Say Yes to Heaven\", lang=\"en\")))\n",
    "song_graph.add((SayYesToHeaven, dbo.releaseDate, Literal(\"2023-05-19\", datatype=XSD.date)))\n",
    "song_graph.add((SayYesToHeaven, dbo.artist, dbr.Lana_Del_Rey))\n",
    "song_graph.add((SayYesToHeaven, dbo.writer, dbr.Lana_Del_Rey))\n",
    "song_graph.add((SayYesToHeaven, dbo.writer, dbr.Rick_Nowels))\n",
    "song_graph.add((SayYesToHeaven, dbo.genre, dbr.Soft_rock))\n",
    "song_graph.add((SayYesToHeaven, dbo.recordLabel, dbr.Interscope_Records))\n",
    "song_graph.add((SayYesToHeaven, dbo.producer, dbr.Rick_Nowels))\n",
    "song_graph.add((SayYesToHeaven, RDFS.label, Literal(\"Say Yes to Heaven\", lang=\"en\")))\n",
    "song_graph.add((SayYesToHeaven, RDFS.comment, Literal(\"A song by American singer-songwriter Lana Del Rey.\", lang=\"en\")))"
   ]
  },
  {
   "cell_type": "markdown",
   "id": "9111c1b9",
   "metadata": {},
   "source": [
    "### Adding triples to the artists"
   ]
  },
  {
   "cell_type": "code",
   "execution_count": 54,
   "id": "f05af09b",
   "metadata": {},
   "outputs": [
    {
     "data": {
      "text/plain": [
       "<Graph identifier=N7cfb068c188e4b34bbf01af12c6c7b38 (<class 'rdflib.graph.Graph'>)>"
      ]
     },
     "execution_count": 54,
     "metadata": {},
     "output_type": "execute_result"
    }
   ],
   "source": [
    "# add triples to the artist Ed Sheeran\n",
    "song_graph.add((dbr.Ed_Sheeran, RDF.type, Person))\n",
    "song_graph.add((dbr.Ed_Sheeran, dbo.birthName, Literal(\"Edward Christopher Sheeran\", lang=\"en\")))\n",
    "song_graph.add((dbr.Ed_Sheeran, myOnto.hasWikipageID, Literal(\"30528002\", datatype=XSD.integer)))\n",
    "song_graph.add((dbr.Ed_Sheeran, RDFS.label, Literal(\"Ed Sheeran\", lang=\"en\")))\n",
    "song_graph.add((dbr.Ed_Sheeran, RDFS.comment, Literal(\"An English singer and songwriter.\", lang=\"en\")))"
   ]
  },
  {
   "cell_type": "code",
   "execution_count": 55,
   "id": "ba8ffe0d",
   "metadata": {},
   "outputs": [
    {
     "data": {
      "text/plain": [
       "<Graph identifier=N7cfb068c188e4b34bbf01af12c6c7b38 (<class 'rdflib.graph.Graph'>)>"
      ]
     },
     "execution_count": 55,
     "metadata": {},
     "output_type": "execute_result"
    }
   ],
   "source": [
    "# add triples to the artist Adele\n",
    "song_graph.add((dbr.Adele, RDF.type, Person))\n",
    "song_graph.add((dbr.Adele, dbo.birthName, Literal(\"Adele Laurie Blue Adkins\", lang=\"en\")))\n",
    "song_graph.add((dbr.Adele, myOnto.hasWikipageID, Literal(\"13041163\", datatype=XSD.integer)))\n",
    "song_graph.add((dbr.Adele, RDFS.label, Literal(\"Adele\", lang=\"en\")))\n",
    "song_graph.add((dbr.Adele, RDFS.comment, Literal(\"An English singer and songwriter.\", lang=\"en\")))"
   ]
  },
  {
   "cell_type": "code",
   "execution_count": 56,
   "id": "06fdc948",
   "metadata": {},
   "outputs": [
    {
     "data": {
      "text/plain": [
       "<Graph identifier=N7cfb068c188e4b34bbf01af12c6c7b38 (<class 'rdflib.graph.Graph'>)>"
      ]
     },
     "execution_count": 56,
     "metadata": {},
     "output_type": "execute_result"
    }
   ],
   "source": [
    "# add triples to the artist Rihanna\n",
    "song_graph.add((dbr.Rihanna, RDF.type, Person))\n",
    "song_graph.add((dbr.Rihanna, dbo.birthName, Literal(\"Robyn Rihanna Fenty\", lang=\"en\")))\n",
    "song_graph.add((dbr.Rihanna, myOnto.hasWikipageID, Literal(\"2110323\", datatype=XSD.integer)))\n",
    "song_graph.add((dbr.Rihanna, RDFS.label, Literal(\"Rihanna\", lang=\"en\")))\n",
    "song_graph.add((dbr.Rihanna, RDFS.comment, Literal(\"A Barbadian singer, actress, and businesswoman.\", lang=\"en\")))"
   ]
  },
  {
   "cell_type": "code",
   "execution_count": 57,
   "id": "5daa0686",
   "metadata": {},
   "outputs": [
    {
     "data": {
      "text/plain": [
       "<Graph identifier=N7cfb068c188e4b34bbf01af12c6c7b38 (<class 'rdflib.graph.Graph'>)>"
      ]
     },
     "execution_count": 57,
     "metadata": {},
     "output_type": "execute_result"
    }
   ],
   "source": [
    "# add triples to the artist Mike Will Made It\n",
    "song_graph.add((dbr.Mike_Will_Made_It, RDF.type, Person))\n",
    "song_graph.add((dbr.Mike_Will_Made_It, dbo.birthName, Literal(\"Michael Len Williams II\", lang=\"en\")))\n",
    "song_graph.add((dbr.Mike_Will_Made_It, myOnto.hasWikipageID, Literal(\"37114091\", datatype=XSD.integer)))\n",
    "song_graph.add((dbr.Mike_Will_Made_It, RDFS.label, Literal(\"Mike Will Made It\", lang=\"en\")))\n",
    "song_graph.add((dbr.Mike_Will_Made_It, RDFS.comment, Literal(\"An American record producer, rapper, songwriter and DJ.\", lang=\"en\")))"
   ]
  },
  {
   "cell_type": "code",
   "execution_count": 58,
   "id": "c023a6a0",
   "metadata": {},
   "outputs": [
    {
     "data": {
      "text/plain": [
       "<Graph identifier=N7cfb068c188e4b34bbf01af12c6c7b38 (<class 'rdflib.graph.Graph'>)>"
      ]
     },
     "execution_count": 58,
     "metadata": {},
     "output_type": "execute_result"
    }
   ],
   "source": [
    "# add triples to the artist Ariana Grande\n",
    "song_graph.add((dbr.Ariana_Grande, RDF.type, Person))\n",
    "song_graph.add((dbr.Ariana_Grande, dbo.birthName, Literal(\"Ariana Grande-Butera\", lang=\"en\")))\n",
    "song_graph.add((dbr.Ariana_Grande, myOnto.hasWikipageID, Literal(\"25276055\", datatype=XSD.integer)))\n",
    "song_graph.add((dbr.Ariana_Grande, RDFS.label, Literal(\"Ariana Grande\", lang=\"en\")))\n",
    "song_graph.add((dbr.Ariana_Grande, RDFS.comment, Literal(\"An American singer, songwriter, and actress.\", lang=\"en\")))"
   ]
  },
  {
   "cell_type": "code",
   "execution_count": 59,
   "id": "0d0b9168",
   "metadata": {},
   "outputs": [
    {
     "data": {
      "text/plain": [
       "<Graph identifier=N7cfb068c188e4b34bbf01af12c6c7b38 (<class 'rdflib.graph.Graph'>)>"
      ]
     },
     "execution_count": 59,
     "metadata": {},
     "output_type": "execute_result"
    }
   ],
   "source": [
    "# add triples to the artist Kanye West\n",
    "song_graph.add((dbr.Kanye_West, RDF.type, Person))\n",
    "song_graph.add((dbr.Kanye_West, dbo.birthName, Literal(\"Kanye West\", lang=\"en\")))\n",
    "song_graph.add((dbr.Kanye_West, myOnto.hasWikipageID, Literal(\"523032\", datatype=XSD.integer)))\n",
    "song_graph.add((dbr.Kanye_West, RDFS.label, Literal(\"Kanye West\", lang=\"en\")))\n",
    "song_graph.add((dbr.Kanye_West, RDFS.comment, Literal(\"An American rapper, songwriter, record producer and fashion designer.\", lang=\"en\")))"
   ]
  },
  {
   "cell_type": "code",
   "execution_count": 60,
   "id": "f7f53120",
   "metadata": {},
   "outputs": [
    {
     "data": {
      "text/plain": [
       "<Graph identifier=N7cfb068c188e4b34bbf01af12c6c7b38 (<class 'rdflib.graph.Graph'>)>"
      ]
     },
     "execution_count": 60,
     "metadata": {},
     "output_type": "execute_result"
    }
   ],
   "source": [
    "# add triples to the artist Lana Del Rey\n",
    "song_graph.add((dbr.Lana_Del_Rey, RDF.type, Person))\n",
    "song_graph.add((dbr.Lana_Del_Rey, dbo.birthName, Literal(\"Elizabeth Woolridge Grant\", lang=\"en\")))\n",
    "song_graph.add((dbr.Lana_Del_Rey, myOnto.hasWikipageID, Literal(\"33209238\", datatype=XSD.integer)))\n",
    "song_graph.add((dbr.Lana_Del_Rey, RDFS.label, Literal(\"Lana Del Rey\", lang=\"en\")))\n",
    "song_graph.add((dbr.Lana_Del_Rey, RDFS.comment, Literal(\"An American singer-songwriter.\", lang=\"en\")))"
   ]
  },
  {
   "cell_type": "code",
   "execution_count": 61,
   "id": "a4313932",
   "metadata": {},
   "outputs": [
    {
     "data": {
      "text/plain": [
       "<Graph identifier=N7cfb068c188e4b34bbf01af12c6c7b38 (<class 'rdflib.graph.Graph'>)>"
      ]
     },
     "execution_count": 61,
     "metadata": {},
     "output_type": "execute_result"
    }
   ],
   "source": [
    "# add triples to the artist Taylor Swift\n",
    "song_graph.add((dbr.Taylor_Swift, RDF.type, Person))\n",
    "song_graph.add((dbr.Taylor_Swift, dbo.birthName, Literal(\"Taylor Alison Swift\", lang=\"en\")))\n",
    "song_graph.add((dbr.Taylor_Swift, myOnto.hasWikipageID, Literal(\"5422144\", datatype=XSD.integer)))\n",
    "song_graph.add((dbr.Taylor_Swift, RDFS.label, Literal(\"Taylor Swift\", lang=\"en\")))\n",
    "song_graph.add((dbr.Taylor_Swift, RDFS.comment, Literal(\"An American singer-songwriter.\", lang=\"en\")))"
   ]
  },
  {
   "cell_type": "code",
   "execution_count": 62,
   "id": "7b4973d2",
   "metadata": {},
   "outputs": [
    {
     "data": {
      "text/plain": [
       "<Graph identifier=N7cfb068c188e4b34bbf01af12c6c7b38 (<class 'rdflib.graph.Graph'>)>"
      ]
     },
     "execution_count": 62,
     "metadata": {},
     "output_type": "execute_result"
    }
   ],
   "source": [
    "# add triples to the artist Gavin DeGraw\n",
    "song_graph.add((dbr.Gavin_DeGraw, RDF.type, Person))\n",
    "song_graph.add((dbr.Gavin_DeGraw, dbo.birthName, Literal(\"Gavin Shane DeGraw\", lang=\"en\")))\n",
    "song_graph.add((dbr.Gavin_DeGraw, myOnto.hasWikipageID, Literal(\"7955359\", datatype=XSD.integer)))\n",
    "song_graph.add((dbr.Gavin_DeGraw, RDFS.label, Literal(\"Gavin DeGraw\", lang=\"en\")))\n",
    "song_graph.add((dbr.Gavin_DeGraw, RDFS.comment, Literal(\"An American singer-songwriter.\", lang=\"en\")))"
   ]
  },
  {
   "cell_type": "code",
   "execution_count": 63,
   "id": "5a206b70",
   "metadata": {},
   "outputs": [
    {
     "data": {
      "text/plain": [
       "<Graph identifier=N7cfb068c188e4b34bbf01af12c6c7b38 (<class 'rdflib.graph.Graph'>)>"
      ]
     },
     "execution_count": 63,
     "metadata": {},
     "output_type": "execute_result"
    }
   ],
   "source": [
    "# add triples to the artist Selena Gomez\n",
    "song_graph.add((dbr.Selena_Gomez, RDF.type, Person))\n",
    "song_graph.add((dbr.Selena_Gomez, dbo.birthName, Literal(\"Selena Marie Gomez\", lang=\"en\")))\n",
    "song_graph.add((dbr.Selena_Gomez, myOnto.hasWikipageID, Literal(\"6844407\", datatype=XSD.integer)))\n",
    "song_graph.add((dbr.Selena_Gomez, RDFS.label, Literal(\"Selena Gomez\", lang=\"en\")))\n",
    "song_graph.add((dbr.Selena_Gomez, RDFS.comment, Literal(\"An American singer, actress and film producer.\", lang=\"en\")))"
   ]
  },
  {
   "cell_type": "code",
   "execution_count": 64,
   "id": "bf1c1531",
   "metadata": {},
   "outputs": [
    {
     "data": {
      "text/plain": [
       "<Graph identifier=N7cfb068c188e4b34bbf01af12c6c7b38 (<class 'rdflib.graph.Graph'>)>"
      ]
     },
     "execution_count": 64,
     "metadata": {},
     "output_type": "execute_result"
    }
   ],
   "source": [
    "# add triples to the artist Miley Cyrus\n",
    "song_graph.add((dbr.Miley_Cyrus, RDF.type, Person))\n",
    "song_graph.add((dbr.Miley_Cyrus, dbo.birthName, Literal(\"Destiny Hope Cyrus\", lang=\"en\")))\n",
    "song_graph.add((dbr.Miley_Cyrus, myOnto.hasWikipageID, Literal(\"8135890\", datatype=XSD.integer)))\n",
    "song_graph.add((dbr.Miley_Cyrus, RDFS.label, Literal(\"Miley Cyrus\", lang=\"en\")))\n",
    "song_graph.add((dbr.Miley_Cyrus, RDFS.comment, Literal(\"An American singer, songwriter, and actress.\", lang=\"en\")))"
   ]
  },
  {
   "cell_type": "code",
   "execution_count": 65,
   "id": "15baa660",
   "metadata": {},
   "outputs": [
    {
     "data": {
      "text/plain": [
       "<Graph identifier=N7cfb068c188e4b34bbf01af12c6c7b38 (<class 'rdflib.graph.Graph'>)>"
      ]
     },
     "execution_count": 65,
     "metadata": {},
     "output_type": "execute_result"
    }
   ],
   "source": [
    "# add triples to the artist Dua Lipa\n",
    "song_graph.add((dbr.Dua_Lipa, RDF.type, Person))\n",
    "song_graph.add((dbr.Dua_Lipa, dbo.birthName, Literal(\"Dua Lipa\", lang=\"en\")))\n",
    "song_graph.add((dbr.Dua_Lipa, myOnto.hasWikipageID, Literal(\"49002318\", datatype=XSD.integer)))\n",
    "song_graph.add((dbr.Dua_Lipa, RDFS.label, Literal(\"Dua Lipa\", lang=\"en\")))\n",
    "song_graph.add((dbr.Dua_Lipa, RDFS.comment, Literal(\"An English and Albanian singer and songwriter.\", lang=\"en\")))"
   ]
  },
  {
   "cell_type": "markdown",
   "id": "86909c3c",
   "metadata": {},
   "source": [
    "### Adding triples to the song writers"
   ]
  },
  {
   "cell_type": "code",
   "execution_count": 66,
   "id": "47e12b08",
   "metadata": {},
   "outputs": [
    {
     "data": {
      "text/plain": [
       "<Graph identifier=N7cfb068c188e4b34bbf01af12c6c7b38 (<class 'rdflib.graph.Graph'>)>"
      ]
     },
     "execution_count": 66,
     "metadata": {},
     "output_type": "execute_result"
    }
   ],
   "source": [
    "# add triples to the song writer Benny Blanco\n",
    "song_graph.add((dbr.Benny_Blanco, RDF.type, Person))\n",
    "song_graph.add((dbr.Benny_Blanco, dbo.birthName, Literal(\"Benjamin Joseph Levin\", lang=\"en\")))\n",
    "song_graph.add((dbr.Benny_Blanco, myOnto.hasWikipageID, Literal(\"20034513\", datatype=XSD.integer)))\n",
    "song_graph.add((dbr.Benny_Blanco, RDFS.label, Literal(\"Benny Blanco\", lang=\"en\")))\n",
    "song_graph.add((dbr.Benny_Blanco, RDFS.comment, Literal(\"An American songwriter and record producer.\", lang=\"en\")))"
   ]
  },
  {
   "cell_type": "code",
   "execution_count": 67,
   "id": "2618130b",
   "metadata": {},
   "outputs": [
    {
     "data": {
      "text/plain": [
       "<Graph identifier=N7cfb068c188e4b34bbf01af12c6c7b38 (<class 'rdflib.graph.Graph'>)>"
      ]
     },
     "execution_count": 67,
     "metadata": {},
     "output_type": "execute_result"
    }
   ],
   "source": [
    "# add triples to the song writer Yebba\n",
    "song_graph.add((dbr.Yebba, RDF.type, Person))\n",
    "song_graph.add((dbr.Yebba, dbo.birthName, Literal(\"Abigail Elizabeth Smith\", lang=\"en\")))\n",
    "song_graph.add((dbr.Yebba, myOnto.hasWikipageID, Literal(\"60645033\", datatype=XSD.integer)))\n",
    "song_graph.add((dbr.Yebba, RDFS.label, Literal(\"Yebba\", lang=\"en\")))\n",
    "song_graph.add((dbr.Yebba, RDFS.comment, Literal(\"An American singer and songwriter from West Memphis, Arkansas.\", lang=\"en\")))"
   ]
  },
  {
   "cell_type": "code",
   "execution_count": 68,
   "id": "d4670dad",
   "metadata": {},
   "outputs": [
    {
     "data": {
      "text/plain": [
       "<Graph identifier=N7cfb068c188e4b34bbf01af12c6c7b38 (<class 'rdflib.graph.Graph'>)>"
      ]
     },
     "execution_count": 68,
     "metadata": {},
     "output_type": "execute_result"
    }
   ],
   "source": [
    "# add triples to the producer Jake Gosling\n",
    "song_graph.add((dbr.Jake_Gosling, RDF.type, Person))\n",
    "song_graph.add((dbr.Jake_Gosling, dbo.birthName, Literal(\"Jake Gosling\", lang=\"en\")))\n",
    "song_graph.add((dbr.Jake_Gosling, myOnto.hasWikipageID, Literal(\"30794834\", datatype=XSD.integer)))\n",
    "song_graph.add((dbr.Jake_Gosling, RDFS.label, Literal(\"Jake Gosling\", lang=\"en\")))\n",
    "song_graph.add((dbr.Jake_Gosling, RDFS.comment, Literal(\"A British music producer.\", lang=\"en\")))"
   ]
  },
  {
   "cell_type": "code",
   "execution_count": 69,
   "id": "a23a71ce",
   "metadata": {},
   "outputs": [
    {
     "data": {
      "text/plain": [
       "<Graph identifier=N7cfb068c188e4b34bbf01af12c6c7b38 (<class 'rdflib.graph.Graph'>)>"
      ]
     },
     "execution_count": 69,
     "metadata": {},
     "output_type": "execute_result"
    }
   ],
   "source": [
    "# add triples to the song writer Amy Wadge\n",
    "song_graph.add((dbr.Amy_Wadge, RDF.type, Person))\n",
    "song_graph.add((dbr.Amy_Wadge, dbo.birthName, Literal(\"Amy Victoria Wadge\", lang=\"en\")))\n",
    "song_graph.add((dbr.Amy_Wadge, myOnto.hasWikipageID, Literal(\"3159640\", datatype=XSD.integer)))\n",
    "song_graph.add((dbr.Amy_Wadge, RDFS.label, Literal(\"Amy Wadge\", lang=\"en\")))\n",
    "song_graph.add((dbr.Amy_Wadge, RDFS.comment, Literal(\"An English singer and songwriter.\", lang=\"en\")))"
   ]
  },
  {
   "cell_type": "code",
   "execution_count": 70,
   "id": "dd45dfde",
   "metadata": {},
   "outputs": [
    {
     "data": {
      "text/plain": [
       "<Graph identifier=N7cfb068c188e4b34bbf01af12c6c7b38 (<class 'rdflib.graph.Graph'>)>"
      ]
     },
     "execution_count": 70,
     "metadata": {},
     "output_type": "execute_result"
    }
   ],
   "source": [
    "# add triples to the song writer Paul Epworth\n",
    "song_graph.add((dbr.Paul_Epworth, RDF.type, Person))\n",
    "song_graph.add((dbr.Paul_Epworth, dbo.birthName, Literal(\"Paul Richard Epworth\", lang=\"en\")))\n",
    "song_graph.add((dbr.Paul_Epworth, myOnto.hasWikipageID, Literal(\"3577734\", datatype=XSD.integer)))\n",
    "song_graph.add((dbr.Paul_Epworth, RDFS.label, Literal(\"Paul Epworth\", lang=\"en\")))\n",
    "song_graph.add((dbr.Paul_Epworth, RDFS.comment, Literal(\"An English record producer, songwriter, musician, and remixer.\", lang=\"en\")))"
   ]
  },
  {
   "cell_type": "code",
   "execution_count": 71,
   "id": "3bc1fb2e",
   "metadata": {},
   "outputs": [
    {
     "data": {
      "text/plain": [
       "<Graph identifier=N7cfb068c188e4b34bbf01af12c6c7b38 (<class 'rdflib.graph.Graph'>)>"
      ]
     },
     "execution_count": 71,
     "metadata": {},
     "output_type": "execute_result"
    }
   ],
   "source": [
    "# add triples to the song writer Greg Kurstin\n",
    "song_graph.add((dbr.Greg_Kurstin, RDF.type, Person))\n",
    "song_graph.add((dbr.Greg_Kurstin, dbo.birthName, Literal(\"Gregory Allen Kurstin\", lang=\"en\")))\n",
    "song_graph.add((dbr.Greg_Kurstin, myOnto.hasWikipageID, Literal(\"16096608\", datatype=XSD.integer)))\n",
    "song_graph.add((dbr.Greg_Kurstin, RDFS.label, Literal(\"Greg Kurstin\", lang=\"en\")))\n",
    "song_graph.add((dbr.Greg_Kurstin, RDFS.comment, Literal(\"An American record producer, multi-instrumentalist, and songwriter.\", lang=\"en\")))"
   ]
  },
  {
   "cell_type": "code",
   "execution_count": 72,
   "id": "e0acb033",
   "metadata": {},
   "outputs": [
    {
     "data": {
      "text/plain": [
       "<Graph identifier=N7cfb068c188e4b34bbf01af12c6c7b38 (<class 'rdflib.graph.Graph'>)>"
      ]
     },
     "execution_count": 72,
     "metadata": {},
     "output_type": "execute_result"
    }
   ],
   "source": [
    "# add triples to the song writer Calvin Harris\n",
    "song_graph.add((dbr.Calvin_Harris, RDF.type, Person))\n",
    "song_graph.add((dbr.Calvin_Harris, dbo.birthName, Literal(\"Adam Richard Wiles\", lang=\"en\")))\n",
    "song_graph.add((dbr.Calvin_Harris, myOnto.hasWikipageID, Literal(\"9424472\", datatype=XSD.integer)))\n",
    "song_graph.add((dbr.Calvin_Harris, RDFS.label, Literal(\"Calvin Harris\", lang=\"en\")))\n",
    "song_graph.add((dbr.Calvin_Harris, RDFS.comment, Literal(\"A Scottish DJ, record producer, singer, and songwriter.\", lang=\"en\")))"
   ]
  },
  {
   "cell_type": "code",
   "execution_count": 73,
   "id": "18ca7b71",
   "metadata": {},
   "outputs": [
    {
     "data": {
      "text/plain": [
       "<Graph identifier=N7cfb068c188e4b34bbf01af12c6c7b38 (<class 'rdflib.graph.Graph'>)>"
      ]
     },
     "execution_count": 73,
     "metadata": {},
     "output_type": "execute_result"
    }
   ],
   "source": [
    "# add triples to the song writer Ilya Salmanzadeh\n",
    "song_graph.add((dbr.Ilya_Salmanzadeh, RDF.type, Person))\n",
    "song_graph.add((dbr.Ilya_Salmanzadeh, dbo.birthName, Literal(\"Ilya Salmanzadeh\", lang=\"en\")))\n",
    "song_graph.add((dbr.Ilya_Salmanzadeh, myOnto.hasWikipageID, Literal(\"42686955\", datatype=XSD.integer)))\n",
    "song_graph.add((dbr.Ilya_Salmanzadeh, RDFS.label, Literal(\"Ilya Salmanzadeh\", lang=\"en\")))\n",
    "song_graph.add((dbr.Ilya_Salmanzadeh, RDFS.comment, Literal(\"A Swedish-Persian songwriter, producer and singer.\", lang=\"en\")))"
   ]
  },
  {
   "cell_type": "code",
   "execution_count": 74,
   "id": "e9fae6ce",
   "metadata": {},
   "outputs": [
    {
     "data": {
      "text/plain": [
       "<Graph identifier=N7cfb068c188e4b34bbf01af12c6c7b38 (<class 'rdflib.graph.Graph'>)>"
      ]
     },
     "execution_count": 74,
     "metadata": {},
     "output_type": "execute_result"
    }
   ],
   "source": [
    "# add triples to the song writer Savan Kotecha\n",
    "song_graph.add((dbr.Savan_Kotecha, RDF.type, Person))\n",
    "song_graph.add((dbr.Savan_Kotecha, dbo.birthName, Literal(\"Savan Harish Kotecha\", lang=\"en\")))\n",
    "song_graph.add((dbr.Savan_Kotecha, myOnto.hasWikipageID, Literal(\"14091317\", datatype=XSD.integer)))\n",
    "song_graph.add((dbr.Savan_Kotecha, RDFS.label, Literal(\"Savan Kotecha\", lang=\"en\")))\n",
    "song_graph.add((dbr.Savan_Kotecha, RDFS.comment, Literal(\"An American songwriter and record producer from Austin, Texas.\", lang=\"en\")))"
   ]
  },
  {
   "cell_type": "code",
   "execution_count": 75,
   "id": "c8747247",
   "metadata": {},
   "outputs": [
    {
     "data": {
      "text/plain": [
       "<Graph identifier=N7cfb068c188e4b34bbf01af12c6c7b38 (<class 'rdflib.graph.Graph'>)>"
      ]
     },
     "execution_count": 75,
     "metadata": {},
     "output_type": "execute_result"
    }
   ],
   "source": [
    "# add triples to the song writer Pharrell Williams\n",
    "song_graph.add((dbr.Pharrell_Williams, RDF.type, Person))\n",
    "song_graph.add((dbr.Pharrell_Williams, dbo.birthName, Literal(\"Pharrell Lanscilo Williams\", lang=\"en\")))\n",
    "song_graph.add((dbr.Pharrell_Williams, myOnto.hasWikipageID, Literal(\"735009\", datatype=XSD.integer)))\n",
    "song_graph.add((dbr.Pharrell_Williams, RDFS.label, Literal(\"Pharrell Williams\", lang=\"en\")))\n",
    "song_graph.add((dbr.Pharrell_Williams, RDFS.comment, Literal(\"An American record producer, rapper, singer, and songwriter.\", lang=\"en\")))"
   ]
  },
  {
   "cell_type": "code",
   "execution_count": 76,
   "id": "fdb802fe",
   "metadata": {},
   "outputs": [
    {
     "data": {
      "text/plain": [
       "<Graph identifier=N7cfb068c188e4b34bbf01af12c6c7b38 (<class 'rdflib.graph.Graph'>)>"
      ]
     },
     "execution_count": 76,
     "metadata": {},
     "output_type": "execute_result"
    }
   ],
   "source": [
    "# add triples to the song writer Nicki Minaj\n",
    "song_graph.add((dbr.Nicki_Minaj, RDF.type, Person))\n",
    "song_graph.add((dbr.Nicki_Minaj, dbo.birthName, Literal(\"Onika Tanya Maraj\", lang=\"en\")))\n",
    "song_graph.add((dbr.Nicki_Minaj, myOnto.hasWikipageID, Literal(\"22570683\", datatype=XSD.integer)))\n",
    "song_graph.add((dbr.Nicki_Minaj, RDFS.label, Literal(\"Nicki Minaj\", lang=\"en\")))\n",
    "song_graph.add((dbr.Nicki_Minaj, RDFS.comment, Literal(\"A Trinidadian-born rapper based in the United States.\", lang=\"en\")))"
   ]
  },
  {
   "cell_type": "code",
   "execution_count": 77,
   "id": "487c64c4",
   "metadata": {},
   "outputs": [
    {
     "data": {
      "text/plain": [
       "<Graph identifier=N7cfb068c188e4b34bbf01af12c6c7b38 (<class 'rdflib.graph.Graph'>)>"
      ]
     },
     "execution_count": 77,
     "metadata": {},
     "output_type": "execute_result"
    }
   ],
   "source": [
    "# add triples to the song writer Hudson Mohawke\n",
    "song_graph.add((dbr.Hudson_Mohawke, RDF.type, Person))\n",
    "song_graph.add((dbr.Hudson_Mohawke, dbo.birthName, Literal(\"Hudson Mohawke\", lang=\"en\")))\n",
    "song_graph.add((dbr.Hudson_Mohawke, myOnto.hasWikipageID, Literal(\"21431138\", datatype=XSD.integer)))\n",
    "song_graph.add((dbr.Hudson_Mohawke, RDFS.label, Literal(\"Ross Matthew Birchard\", lang=\"en\")))\n",
    "song_graph.add((dbr.Hudson_Mohawke, RDFS.comment, Literal(\"A Scottish-American producer, composer, and DJ from Glasgow.\", lang=\"en\")))"
   ]
  },
  {
   "cell_type": "code",
   "execution_count": 78,
   "id": "7f16731d",
   "metadata": {},
   "outputs": [
    {
     "data": {
      "text/plain": [
       "<Graph identifier=N7cfb068c188e4b34bbf01af12c6c7b38 (<class 'rdflib.graph.Graph'>)>"
      ]
     },
     "execution_count": 78,
     "metadata": {},
     "output_type": "execute_result"
    }
   ],
   "source": [
    "# add triples to the song writer Caroline Shaw\n",
    "song_graph.add((dbr.Caroline_Shaw, RDF.type, Person))\n",
    "song_graph.add((dbr.Caroline_Shaw, dbo.birthName, Literal(\"Caroline Adelaide Shaw\", lang=\"en\")))\n",
    "song_graph.add((dbr.Caroline_Shaw, myOnto.hasWikipageID, Literal(\"39254203\", datatype=XSD.integer)))\n",
    "song_graph.add((dbr.Caroline_Shaw, RDFS.label, Literal(\"Caroline Shaw\", lang=\"en\")))\n",
    "song_graph.add((dbr.Caroline_Shaw, RDFS.comment, Literal(\"An American composer, violinist, and singer.\", lang=\"en\")))"
   ]
  },
  {
   "cell_type": "code",
   "execution_count": 79,
   "id": "9848d0b7",
   "metadata": {},
   "outputs": [
    {
     "data": {
      "text/plain": [
       "<Graph identifier=N7cfb068c188e4b34bbf01af12c6c7b38 (<class 'rdflib.graph.Graph'>)>"
      ]
     },
     "execution_count": 79,
     "metadata": {},
     "output_type": "execute_result"
    }
   ],
   "source": [
    "# add triples to the song writer Desiigner\n",
    "song_graph.add((dbr.Desiigner, RDF.type, Person))\n",
    "song_graph.add((dbr.Desiigner, dbo.birthName, Literal(\"Sidney Royel Selby III\", lang=\"en\")))\n",
    "song_graph.add((dbr.Desiigner, myOnto.hasWikipageID, Literal(\"49400746\", datatype=XSD.integer)))\n",
    "song_graph.add((dbr.Desiigner, RDFS.label, Literal(\"Desiigner\", lang=\"en\")))\n",
    "song_graph.add((dbr.Desiigner, RDFS.comment, Literal(\"An American rapper and singer.\", lang=\"en\")))"
   ]
  },
  {
   "cell_type": "code",
   "execution_count": 80,
   "id": "acb678db",
   "metadata": {},
   "outputs": [
    {
     "data": {
      "text/plain": [
       "<Graph identifier=N7cfb068c188e4b34bbf01af12c6c7b38 (<class 'rdflib.graph.Graph'>)>"
      ]
     },
     "execution_count": 80,
     "metadata": {},
     "output_type": "execute_result"
    }
   ],
   "source": [
    "# add triples to the song writer Will Gregory\n",
    "song_graph.add((dbr.Will_Gregory, RDF.type, Person))\n",
    "song_graph.add((dbr.Will_Gregory, dbo.birthName, Literal(\"William Owen Gregory\", lang=\"en\")))\n",
    "song_graph.add((dbr.Will_Gregory, myOnto.hasWikipageID, Literal(\"4187747\", datatype=XSD.integer)))\n",
    "song_graph.add((dbr.Will_Gregory, RDFS.label, Literal(\"William Gregory\", lang=\"en\")))\n",
    "song_graph.add((dbr.Will_Gregory, RDFS.comment, Literal(\"An English musician and record producer.\", lang=\"en\")))"
   ]
  },
  {
   "cell_type": "code",
   "execution_count": 81,
   "id": "c3be1ae3",
   "metadata": {},
   "outputs": [
    {
     "data": {
      "text/plain": [
       "<Graph identifier=N7cfb068c188e4b34bbf01af12c6c7b38 (<class 'rdflib.graph.Graph'>)>"
      ]
     },
     "execution_count": 81,
     "metadata": {},
     "output_type": "execute_result"
    }
   ],
   "source": [
    "# add triples to the song writer Alison Goldfrapp\n",
    "song_graph.add((dbr.Alison_Goldfrapp, RDF.type, Person))\n",
    "song_graph.add((dbr.Alison_Goldfrapp, dbo.birthName, Literal(\"Alison Elizabeth Margaret Goldfrapp\", lang=\"en\")))\n",
    "song_graph.add((dbr.Alison_Goldfrapp, myOnto.hasWikipageID, Literal(\"2134961\", datatype=XSD.integer)))\n",
    "song_graph.add((dbr.Alison_Goldfrapp, RDFS.label, Literal(\"Alison Goldfrapp\", lang=\"en\")))\n",
    "song_graph.add((dbr.Alison_Goldfrapp, RDFS.comment, Literal(\"An English musician and record producer.\", lang=\"en\")))"
   ]
  },
  {
   "cell_type": "code",
   "execution_count": 82,
   "id": "002c886b",
   "metadata": {},
   "outputs": [
    {
     "data": {
      "text/plain": [
       "<Graph identifier=N7cfb068c188e4b34bbf01af12c6c7b38 (<class 'rdflib.graph.Graph'>)>"
      ]
     },
     "execution_count": 82,
     "metadata": {},
     "output_type": "execute_result"
    }
   ],
   "source": [
    "# add triples to the song writer Rick Nowels\n",
    "song_graph.add((dbr.Rick_Nowels, RDF.type, Person))\n",
    "song_graph.add((dbr.Rick_Nowels, dbo.birthName, Literal(\"Richard Wright Nowels Jr.\", lang=\"en\")))\n",
    "song_graph.add((dbr.Rick_Nowels, myOnto.hasWikipageID, Literal(\"868529\", datatype=XSD.integer)))\n",
    "song_graph.add((dbr.Rick_Nowels, RDFS.label, Literal(\"Rick Nowels\", lang=\"en\")))\n",
    "song_graph.add((dbr.Rick_Nowels, RDFS.comment, Literal(\"An American songwriter, record producer, multi-instrumentalist and arranger.\", lang=\"en\")))"
   ]
  },
  {
   "cell_type": "code",
   "execution_count": 83,
   "id": "4e0e7f55",
   "metadata": {},
   "outputs": [
    {
     "data": {
      "text/plain": [
       "<Graph identifier=N7cfb068c188e4b34bbf01af12c6c7b38 (<class 'rdflib.graph.Graph'>)>"
      ]
     },
     "execution_count": 83,
     "metadata": {},
     "output_type": "execute_result"
    }
   ],
   "source": [
    "# add triples to the song writer Max Martin\n",
    "song_graph.add((dbr.Max_Martin, RDF.type, Person))\n",
    "song_graph.add((dbr.Max_Martin, dbo.birthName, Literal(\"Karl Martin Sandberg\", lang=\"en\")))\n",
    "song_graph.add((dbr.Max_Martin, myOnto.hasWikipageID, Literal(\"640575\", datatype=XSD.integer)))\n",
    "song_graph.add((dbr.Max_Martin, RDFS.label, Literal(\"Max Martin\", lang=\"en\")))\n",
    "song_graph.add((dbr.Max_Martin, RDFS.comment, Literal(\"A Swedish record producer and songwriter.\", lang=\"en\")))"
   ]
  },
  {
   "cell_type": "code",
   "execution_count": 84,
   "id": "aeaaeb51",
   "metadata": {},
   "outputs": [
    {
     "data": {
      "text/plain": [
       "<Graph identifier=N7cfb068c188e4b34bbf01af12c6c7b38 (<class 'rdflib.graph.Graph'>)>"
      ]
     },
     "execution_count": 84,
     "metadata": {},
     "output_type": "execute_result"
    }
   ],
   "source": [
    "# add triples to the song writer Ross Golan\n",
    "song_graph.add((dbr.Ross_Golan, RDF.type, Person))\n",
    "song_graph.add((dbr.Ross_Golan, dbo.birthName, Literal(\"Ross Golan\", lang=\"en\")))\n",
    "song_graph.add((dbr.Ross_Golan, myOnto.hasWikipageID, Literal(\"37155421\", datatype=XSD.integer)))\n",
    "song_graph.add((dbr.Ross_Golan, RDFS.label, Literal(\"Ross Golan\", lang=\"en\")))\n",
    "song_graph.add((dbr.Ross_Golan, RDFS.comment, Literal(\"A multi-award-winning American songwriter, record producer and playwright.\", lang=\"en\")))"
   ]
  },
  {
   "cell_type": "code",
   "execution_count": 85,
   "id": "c81dbf01",
   "metadata": {},
   "outputs": [
    {
     "data": {
      "text/plain": [
       "<Graph identifier=N7cfb068c188e4b34bbf01af12c6c7b38 (<class 'rdflib.graph.Graph'>)>"
      ]
     },
     "execution_count": 85,
     "metadata": {},
     "output_type": "execute_result"
    }
   ],
   "source": [
    "# add triples to the song writer Charli XCX\n",
    "song_graph.add((dbr.Charli_XCX, RDF.type, Person))\n",
    "song_graph.add((dbr.Charli_XCX, dbo.birthName, Literal(\"Charlotte Emma Aitchison\", lang=\"en\")))\n",
    "song_graph.add((dbr.Charli_XCX, myOnto.hasWikipageID, Literal(\"34953684\", datatype=XSD.integer)))\n",
    "song_graph.add((dbr.Charli_XCX, RDFS.label, Literal(\"Charli XCX\", lang=\"en\")))\n",
    "song_graph.add((dbr.Charli_XCX, RDFS.comment, Literal(\"An English singer and songwriter.\", lang=\"en\")))"
   ]
  },
  {
   "cell_type": "code",
   "execution_count": 86,
   "id": "d2b5cf17",
   "metadata": {},
   "outputs": [
    {
     "data": {
      "text/plain": [
       "<Graph identifier=N7cfb068c188e4b34bbf01af12c6c7b38 (<class 'rdflib.graph.Graph'>)>"
      ]
     },
     "execution_count": 86,
     "metadata": {},
     "output_type": "execute_result"
    }
   ],
   "source": [
    "# add triples to the song writer Elena Rose\n",
    "song_graph.add((dbr.Elena_Rose, RDF.type, Person))\n",
    "song_graph.add((dbr.Elena_Rose, dbo.birthName, Literal(\"Andrea Elena Mangiamarchi\", lang=\"en\")))\n",
    "song_graph.add((dbr.Elena_Rose, myOnto.hasWikipageID, Literal(\"64498981\", datatype=XSD.integer)))\n",
    "song_graph.add((dbr.Elena_Rose, RDFS.label, Literal(\"Elena Rose\", lang=\"en\")))\n",
    "song_graph.add((dbr.Elena_Rose, RDFS.comment, Literal(\"A Venezuelan American singer and songwriter from Miami.\", lang=\"en\")))"
   ]
  },
  {
   "cell_type": "code",
   "execution_count": 87,
   "id": "81acc017",
   "metadata": {},
   "outputs": [
    {
     "data": {
      "text/plain": [
       "<Graph identifier=N7cfb068c188e4b34bbf01af12c6c7b38 (<class 'rdflib.graph.Graph'>)>"
      ]
     },
     "execution_count": 87,
     "metadata": {},
     "output_type": "execute_result"
    }
   ],
   "source": [
    "# add triples to the song writer Tainy\n",
    "song_graph.add((dbr.Tainy, RDF.type, Person))\n",
    "song_graph.add((dbr.Tainy, dbo.birthName, Literal(\"Marcos Efraín Masís Fernández\", lang=\"en\")))\n",
    "song_graph.add((dbr.Tainy, myOnto.hasWikipageID, Literal(\"14147029\", datatype=XSD.integer)))\n",
    "song_graph.add((dbr.Tainy, RDFS.label, Literal(\"Tainy\", lang=\"en\")))\n",
    "song_graph.add((dbr.Tainy, RDFS.comment, Literal(\"A Puerto Rican record producer and songwriter.\", lang=\"en\")))"
   ]
  },
  {
   "cell_type": "code",
   "execution_count": 88,
   "id": "0b51226d",
   "metadata": {},
   "outputs": [
    {
     "data": {
      "text/plain": [
       "<Graph identifier=N7cfb068c188e4b34bbf01af12c6c7b38 (<class 'rdflib.graph.Graph'>)>"
      ]
     },
     "execution_count": 88,
     "metadata": {},
     "output_type": "execute_result"
    }
   ],
   "source": [
    "# add triples to the song writer Richard Fairbrass\n",
    "song_graph.add((dbr.Richard_Fairbrass, RDF.type, Person))\n",
    "song_graph.add((dbr.Richard_Fairbrass, dbo.birthName, Literal(\"Richard Peter John Fairbrass\", lang=\"en\")))\n",
    "song_graph.add((dbr.Richard_Fairbrass, myOnto.hasWikipageID, Literal(\"4314218\", datatype=XSD.integer)))\n",
    "song_graph.add((dbr.Richard_Fairbrass, RDFS.label, Literal(\"Richard Fairbrass\", lang=\"en\")))\n",
    "song_graph.add((dbr.Richard_Fairbrass, RDFS.comment, Literal(\"An English singer, bassist and television presenter.\", lang=\"en\")))"
   ]
  },
  {
   "cell_type": "code",
   "execution_count": 89,
   "id": "96556cd2",
   "metadata": {},
   "outputs": [
    {
     "data": {
      "text/plain": [
       "<Graph identifier=N7cfb068c188e4b34bbf01af12c6c7b38 (<class 'rdflib.graph.Graph'>)>"
      ]
     },
     "execution_count": 89,
     "metadata": {},
     "output_type": "execute_result"
    }
   ],
   "source": [
    "# add triples to the song writer Jack Antonoff\n",
    "song_graph.add((dbr.Jack_Antonoff, RDF.type, Person))\n",
    "song_graph.add((dbr.Jack_Antonoff, dbo.birthName, Literal(\"Jack Michael Antonoff\", lang=\"en\")))\n",
    "song_graph.add((dbr.Jack_Antonoff, myOnto.hasWikipageID, Literal(\"37591914\", datatype=XSD.integer)))\n",
    "song_graph.add((dbr.Jack_Antonoff, RDFS.label, Literal(\"Jack Antonoff\", lang=\"en\")))\n",
    "song_graph.add((dbr.Jack_Antonoff, RDFS.comment, Literal(\"An American singer, multi-instrumentalist, songwriter, and record producer.\", lang=\"en\")))"
   ]
  },
  {
   "cell_type": "code",
   "execution_count": 90,
   "id": "d6b7e0cd",
   "metadata": {},
   "outputs": [
    {
     "data": {
      "text/plain": [
       "<Graph identifier=N7cfb068c188e4b34bbf01af12c6c7b38 (<class 'rdflib.graph.Graph'>)>"
      ]
     },
     "execution_count": 90,
     "metadata": {},
     "output_type": "execute_result"
    }
   ],
   "source": [
    "# add triples to the song writer Michael Pollack\n",
    "song_graph.add((dbr.Michael_Pollack, RDF.type, Person))\n",
    "song_graph.add((dbr.Michael_Pollack, dbo.birthName, Literal(\"Michael Ross Pollack\", lang=\"en\")))\n",
    "song_graph.add((dbr.Michael_Pollack, myOnto.hasWikipageID, Literal(\"63056561\", datatype=XSD.integer)))\n",
    "song_graph.add((dbr.Michael_Pollack, RDFS.label, Literal(\"Michael Pollack\", lang=\"en\")))\n",
    "song_graph.add((dbr.Michael_Pollack, RDFS.comment, Literal(\"An American songwriter and record producer.\", lang=\"en\")))"
   ]
  },
  {
   "cell_type": "code",
   "execution_count": 91,
   "id": "6a7cdd83",
   "metadata": {},
   "outputs": [
    {
     "data": {
      "text/plain": [
       "<Graph identifier=N7cfb068c188e4b34bbf01af12c6c7b38 (<class 'rdflib.graph.Graph'>)>"
      ]
     },
     "execution_count": 91,
     "metadata": {},
     "output_type": "execute_result"
    }
   ],
   "source": [
    "# add triples to the song writer Andrew Wyatt\n",
    "song_graph.add((dbr.Andrew_Wyatt, RDF.type, Person))\n",
    "song_graph.add((dbr.Andrew_Wyatt, dbo.birthName, Literal(\"Andrew Wyatt Blakemore\", lang=\"en\")))\n",
    "song_graph.add((dbr.Andrew_Wyatt, myOnto.hasWikipageID, Literal(\"13118249\", datatype=XSD.integer)))\n",
    "song_graph.add((dbr.Andrew_Wyatt, RDFS.label, Literal(\"Andrew Wyatt\", lang=\"en\")))\n",
    "song_graph.add((dbr.Andrew_Wyatt, RDFS.comment, Literal(\"An American musician, songwriter and record producer.\", lang=\"en\")))"
   ]
  },
  {
   "cell_type": "code",
   "execution_count": 92,
   "id": "08a2dcd5",
   "metadata": {},
   "outputs": [
    {
     "data": {
      "text/plain": [
       "<Graph identifier=N7cfb068c188e4b34bbf01af12c6c7b38 (<class 'rdflib.graph.Graph'>)>"
      ]
     },
     "execution_count": 92,
     "metadata": {},
     "output_type": "execute_result"
    }
   ],
   "source": [
    "# add triples to the song writer Caroline Ailin\n",
    "song_graph.add((dbr.Caroline_Ailin, RDF.type, Person))\n",
    "song_graph.add((dbr.Caroline_Ailin, dbo.birthName, Literal(\"Caroline Ailin Buvik Furøyen\", lang=\"en\")))\n",
    "song_graph.add((dbr.Caroline_Ailin, myOnto.hasWikipageID, Literal(\"60075331\", datatype=XSD.integer)))\n",
    "song_graph.add((dbr.Caroline_Ailin, RDFS.label, Literal(\"Caroline Ailin\", lang=\"en\")))\n",
    "song_graph.add((dbr.Caroline_Ailin, RDFS.comment, Literal(\"A Norwegian singer and songwriter based in London.\", lang=\"en\")))"
   ]
  },
  {
   "cell_type": "code",
   "execution_count": 93,
   "id": "d3605ad1",
   "metadata": {},
   "outputs": [
    {
     "data": {
      "text/plain": [
       "<Graph identifier=N7cfb068c188e4b34bbf01af12c6c7b38 (<class 'rdflib.graph.Graph'>)>"
      ]
     },
     "execution_count": 93,
     "metadata": {},
     "output_type": "execute_result"
    }
   ],
   "source": [
    "# add triples to the song writer Mark Ronson\n",
    "song_graph.add((dbr.Mark_Ronson, RDF.type, Person))\n",
    "song_graph.add((dbr.Mark_Ronson, dbo.birthName, Literal(\"Mark Daniel Ronson\", lang=\"en\")))\n",
    "song_graph.add((dbr.Mark_Ronson, myOnto.hasWikipageID, Literal(\"2885151\", datatype=XSD.integer)))\n",
    "song_graph.add((dbr.Mark_Ronson, RDFS.label, Literal(\"Mark Ronson\", lang=\"en\")))\n",
    "song_graph.add((dbr.Mark_Ronson, RDFS.comment, Literal(\"A British-American DJ, songwriter, record producer, and record executive.\", lang=\"en\")))"
   ]
  },
  {
   "cell_type": "markdown",
   "id": "e8199523",
   "metadata": {},
   "source": [
    "### Adding triples to the Genres"
   ]
  },
  {
   "cell_type": "code",
   "execution_count": 94,
   "id": "513ed94c",
   "metadata": {},
   "outputs": [
    {
     "data": {
      "text/plain": [
       "<Graph identifier=N7cfb068c188e4b34bbf01af12c6c7b38 (<class 'rdflib.graph.Graph'>)>"
      ]
     },
     "execution_count": 94,
     "metadata": {},
     "output_type": "execute_result"
    }
   ],
   "source": [
    "# add triples to the Genre Pop music\n",
    "song_graph.add((dbr.Pop_music, RDF.type, dbo.MusicGenre))\n",
    "song_graph.add((dbr.Pop_music, FOAF.name, Literal(\"Pop music\", lang=\"en\")))\n",
    "song_graph.add((dbr.Pop_music, RDFS.label, Literal(\"Pop music\", lang=\"en\")))\n",
    "song_graph.add((dbr.Pop_music, RDFS.comment, Literal(\"A genre of popular music that originated in its modern form during the mid-1950s in the United States and the United Kingdom.\", lang=\"en\")))"
   ]
  },
  {
   "cell_type": "code",
   "execution_count": 95,
   "id": "964989ad",
   "metadata": {},
   "outputs": [
    {
     "data": {
      "text/plain": [
       "<Graph identifier=N7cfb068c188e4b34bbf01af12c6c7b38 (<class 'rdflib.graph.Graph'>)>"
      ]
     },
     "execution_count": 95,
     "metadata": {},
     "output_type": "execute_result"
    }
   ],
   "source": [
    "# add triples to the Genre Soft rock\n",
    "song_graph.add((dbr.Soft_rock, RDF.type, dbo.MusicGenre))\n",
    "song_graph.add((dbr.Soft_rock, FOAF.name, Literal(\"Soft rock\", lang=\"en\")))\n",
    "song_graph.add((dbr.Soft_rock, RDFS.label, Literal(\"Soft rock\", lang=\"en\")))\n",
    "song_graph.add((dbr.Soft_rock, RDFS.comment, Literal(\"A form of rock music that originated in the late 1960s in Southern California and the United Kingdom.\", lang=\"en\")))"
   ]
  },
  {
   "cell_type": "code",
   "execution_count": 96,
   "id": "fef3a3e6",
   "metadata": {},
   "outputs": [
    {
     "data": {
      "text/plain": [
       "<Graph identifier=N7cfb068c188e4b34bbf01af12c6c7b38 (<class 'rdflib.graph.Graph'>)>"
      ]
     },
     "execution_count": 96,
     "metadata": {},
     "output_type": "execute_result"
    }
   ],
   "source": [
    "# add triples to the Genre Soul music\n",
    "song_graph.add((dbr.Soul_music, RDF.type, dbo.MusicGenre))\n",
    "song_graph.add((dbr.Soul_music, FOAF.name, Literal(\"Soul music\", lang=\"en\")))\n",
    "song_graph.add((dbr.Soul_music, RDFS.label, Literal(\"Soul music\", lang=\"en\")))\n",
    "song_graph.add((dbr.Soul_music, RDFS.comment, Literal(\"A popular music genre that originated in the African American community throughout the United States in the late 1950s and early 1960s.\", lang=\"en\")))"
   ]
  },
  {
   "cell_type": "code",
   "execution_count": 97,
   "id": "9b7ee674",
   "metadata": {},
   "outputs": [
    {
     "data": {
      "text/plain": [
       "<Graph identifier=N7cfb068c188e4b34bbf01af12c6c7b38 (<class 'rdflib.graph.Graph'>)>"
      ]
     },
     "execution_count": 97,
     "metadata": {},
     "output_type": "execute_result"
    }
   ],
   "source": [
    "# add triples to the Genre Hip hop music\n",
    "song_graph.add((dbr.Hip_hop_music, RDF.type, dbo.MusicGenre))\n",
    "song_graph.add((dbr.Hip_hop_music, FOAF.name, Literal(\"Hip hop music\", lang=\"en\")))\n",
    "song_graph.add((dbr.Hip_hop_music, RDFS.label, Literal(\"Hip hop music\", lang=\"en\")))\n",
    "song_graph.add((dbr.Hip_hop_music, RDFS.comment, Literal(\"A genre of popular music that originated in New York City in the 1970s.\", lang=\"en\")))"
   ]
  },
  {
   "cell_type": "code",
   "execution_count": 98,
   "id": "fba7d31b",
   "metadata": {},
   "outputs": [
    {
     "data": {
      "text/plain": [
       "<Graph identifier=N7cfb068c188e4b34bbf01af12c6c7b38 (<class 'rdflib.graph.Graph'>)>"
      ]
     },
     "execution_count": 98,
     "metadata": {},
     "output_type": "execute_result"
    }
   ],
   "source": [
    "# add triples to the Genre Electro house\n",
    "song_graph.add((dbr.Electro_house, RDF.type, dbo.MusicGenre))\n",
    "song_graph.add((dbr.Electro_house, FOAF.name, Literal(\"Electro house\", lang=\"en\")))\n",
    "song_graph.add((dbr.Electro_house, RDFS.label, Literal(\"Electro house\", lang=\"en\")))\n",
    "song_graph.add((dbr.Electro_house, RDFS.comment, Literal(\"A genre of electronic dance music characterized by heavy bass and a tempo around 130 beats per minute.\", lang=\"en\")))"
   ]
  },
  {
   "cell_type": "code",
   "execution_count": 99,
   "id": "bc3e76b1",
   "metadata": {},
   "outputs": [
    {
     "data": {
      "text/plain": [
       "<Graph identifier=N7cfb068c188e4b34bbf01af12c6c7b38 (<class 'rdflib.graph.Graph'>)>"
      ]
     },
     "execution_count": 99,
     "metadata": {},
     "output_type": "execute_result"
    }
   ],
   "source": [
    "# add triples to the Genre Dance music\n",
    "song_graph.add((dbr.Dance_music, RDF.type, dbo.MusicGenre))\n",
    "song_graph.add((dbr.Dance_music, FOAF.name, Literal(\"Dance music\", lang=\"en\")))\n",
    "song_graph.add((dbr.Dance_music, RDFS.label, Literal(\"Dance music\", lang=\"en\")))\n",
    "song_graph.add((dbr.Dance_music, RDFS.comment, Literal(\"Music composed specifically to facilitate or accompany dancing.\", lang=\"en\")))"
   ]
  },
  {
   "cell_type": "code",
   "execution_count": 100,
   "id": "e2f173b7",
   "metadata": {},
   "outputs": [
    {
     "data": {
      "text/plain": [
       "<Graph identifier=N7cfb068c188e4b34bbf01af12c6c7b38 (<class 'rdflib.graph.Graph'>)>"
      ]
     },
     "execution_count": 100,
     "metadata": {},
     "output_type": "execute_result"
    }
   ],
   "source": [
    "# add triples to the Genre Progressive Hop\n",
    "song_graph.add((dbr.Progressive_rap, RDF.type, dbo.MusicGenre))\n",
    "song_graph.add((dbr.Progressive_rap, FOAF.name, Literal(\"Progressive rap\", lang=\"en\")))\n",
    "song_graph.add((dbr.Progressive_rap, RDFS.label, Literal(\"Progressive rap\", lang=\"en\")))\n",
    "song_graph.add((dbr.Progressive_rap, RDFS.comment, Literal(\"A genre of a broad subgenre of hip hop music.\", lang=\"en\")))"
   ]
  },
  {
   "cell_type": "code",
   "execution_count": 101,
   "id": "b953305b",
   "metadata": {},
   "outputs": [
    {
     "data": {
      "text/plain": [
       "<Graph identifier=N7cfb068c188e4b34bbf01af12c6c7b38 (<class 'rdflib.graph.Graph'>)>"
      ]
     },
     "execution_count": 101,
     "metadata": {},
     "output_type": "execute_result"
    }
   ],
   "source": [
    "# add triples to the Genre Electronic music\n",
    "song_graph.add((dbr.Electronic_music, RDF.type, dbo.MusicGenre))\n",
    "song_graph.add((dbr.Electronic_music, FOAF.name, Literal(\"Electronic music\", lang=\"en\")))\n",
    "song_graph.add((dbr.Electronic_music, RDFS.label, Literal(\"Electronic music\", lang=\"en\")))\n",
    "song_graph.add((dbr.Electronic_music, RDFS.comment, Literal(\"A genre that employs electronic musical instruments or digital instruments in its creation.\", lang=\"en\")))"
   ]
  },
  {
   "cell_type": "code",
   "execution_count": 102,
   "id": "1c0a5d84",
   "metadata": {},
   "outputs": [
    {
     "data": {
      "text/plain": [
       "<Graph identifier=N7cfb068c188e4b34bbf01af12c6c7b38 (<class 'rdflib.graph.Graph'>)>"
      ]
     },
     "execution_count": 102,
     "metadata": {},
     "output_type": "execute_result"
    }
   ],
   "source": [
    "# add triples to the Genre Electropop\n",
    "song_graph.add((dbr.Electropop, RDF.type, dbo.MusicGenre))\n",
    "song_graph.add((dbr.Electropop, FOAF.name, Literal(\"Electropop\", lang=\"en\")))\n",
    "song_graph.add((dbr.Electropop, RDFS.label, Literal(\"Electropop\", lang=\"en\")))\n",
    "song_graph.add((dbr.Electropop, RDFS.comment, Literal(\"A hybrid music genre combining elements of electronic and pop genres.\", lang=\"en\")))"
   ]
  },
  {
   "cell_type": "code",
   "execution_count": 103,
   "id": "8c33e95b",
   "metadata": {},
   "outputs": [
    {
     "data": {
      "text/plain": [
       "<Graph identifier=N7cfb068c188e4b34bbf01af12c6c7b38 (<class 'rdflib.graph.Graph'>)>"
      ]
     },
     "execution_count": 103,
     "metadata": {},
     "output_type": "execute_result"
    }
   ],
   "source": [
    "# add triples to the Genre Funk\n",
    "song_graph.add((dbr.Funk, RDF.type, dbo.MusicGenre))\n",
    "song_graph.add((dbr.Funk, FOAF.name, Literal(\"Funk\", lang=\"en\")))\n",
    "song_graph.add((dbr.Funk, RDFS.label, Literal(\"Funk\", lang=\"en\")))\n",
    "song_graph.add((dbr.Funk, RDFS.comment, Literal(\"A music genre originated in African American communities in the mid-1960s.\", lang=\"en\")))"
   ]
  },
  {
   "cell_type": "code",
   "execution_count": 104,
   "id": "e1fbd3b7",
   "metadata": {},
   "outputs": [
    {
     "data": {
      "text/plain": [
       "<Graph identifier=N7cfb068c188e4b34bbf01af12c6c7b38 (<class 'rdflib.graph.Graph'>)>"
      ]
     },
     "execution_count": 104,
     "metadata": {},
     "output_type": "execute_result"
    }
   ],
   "source": [
    "# add triples to the Genre Disco\n",
    "song_graph.add((dbr.Disco, RDF.type, dbo.MusicGenre))\n",
    "song_graph.add((dbr.Disco, FOAF.name, Literal(\"Disco\", lang=\"en\")))\n",
    "song_graph.add((dbr.Disco, RDFS.label, Literal(\"Disco\", lang=\"en\")))\n",
    "song_graph.add((dbr.Disco, RDFS.comment, Literal(\"A genre of dance music and a subculture that emerged in the 1970s.\", lang=\"en\")))"
   ]
  },
  {
   "cell_type": "markdown",
   "id": "dfd8afe8",
   "metadata": {},
   "source": [
    "### Adding triples to the producers"
   ]
  },
  {
   "cell_type": "markdown",
   "id": "a1382aa1",
   "metadata": {},
   "source": [
    "Since most of the producers are also song writers, their tripples have already been added. So here we only need to add one more triple to the producer."
   ]
  },
  {
   "cell_type": "code",
   "execution_count": 105,
   "id": "f440355d",
   "metadata": {},
   "outputs": [
    {
     "data": {
      "text/plain": [
       "<Graph identifier=N7cfb068c188e4b34bbf01af12c6c7b38 (<class 'rdflib.graph.Graph'>)>"
      ]
     },
     "execution_count": 105,
     "metadata": {},
     "output_type": "execute_result"
    }
   ],
   "source": [
    "# add triples to the producer Jim Abbiss\n",
    "song_graph.add((dbr.Jim_Abbiss, RDF.type, Person))\n",
    "song_graph.add((dbr.Jim_Abbiss, dbo.birthName, Literal(\"Jim Abbiss\", lang=\"en\")))\n",
    "song_graph.add((dbr.Jim_Abbiss, myOnto.hasWikipageID, Literal(\"13619094\", datatype=XSD.integer)))\n",
    "song_graph.add((dbr.Jim_Abbiss, RDFS.label, Literal(\"Jim Abbiss\", lang=\"en\")))\n",
    "song_graph.add((dbr.Jim_Abbiss, RDFS.comment, Literal(\"A British music producer.\", lang=\"en\")))"
   ]
  },
  {
   "cell_type": "code",
   "execution_count": 106,
   "id": "59afaada",
   "metadata": {},
   "outputs": [
    {
     "data": {
      "text/plain": [
       "<Graph identifier=N7cfb068c188e4b34bbf01af12c6c7b38 (<class 'rdflib.graph.Graph'>)>"
      ]
     },
     "execution_count": 106,
     "metadata": {},
     "output_type": "execute_result"
    }
   ],
   "source": [
    "# add triples to the producer Kid Harpoon\n",
    "song_graph.add((dbr.Kid_Harpoon, RDF.type, Person))\n",
    "song_graph.add((dbr.Kid_Harpoon, dbo.birthName, Literal(\"Thomas Edward Percy Hull\", lang=\"en\")))\n",
    "song_graph.add((dbr.Kid_Harpoon, myOnto.hasWikipageID, Literal(\"11485463\", datatype=XSD.integer)))\n",
    "song_graph.add((dbr.Kid_Harpoon, RDFS.label, Literal(\"Kid Harpoon\", lang=\"en\")))\n",
    "song_graph.add((dbr.Kid_Harpoon, RDFS.comment, Literal(\"An English singer, songwriter, musician and record producer.\", lang=\"en\")))"
   ]
  },
  {
   "cell_type": "code",
   "execution_count": 107,
   "id": "414452bb",
   "metadata": {},
   "outputs": [
    {
     "data": {
      "text/plain": [
       "<Graph identifier=N7cfb068c188e4b34bbf01af12c6c7b38 (<class 'rdflib.graph.Graph'>)>"
      ]
     },
     "execution_count": 107,
     "metadata": {},
     "output_type": "execute_result"
    }
   ],
   "source": [
    "# add triples to the producer Emile Haynie\n",
    "song_graph.add((dbr.Emile_Haynie, RDF.type, Person))\n",
    "song_graph.add((dbr.Emile_Haynie, dbo.birthName, Literal(\"Emile Haynie\", lang=\"en\")))\n",
    "song_graph.add((dbr.Emile_Haynie, myOnto.hasWikipageID, Literal(\"34605063\", datatype=XSD.integer)))\n",
    "song_graph.add((dbr.Emile_Haynie, RDFS.label, Literal(\"Emile Haynie\", lang=\"en\")))\n",
    "song_graph.add((dbr.Emile_Haynie, RDFS.comment, Literal(\"An American music producer from Buffalo, New York.\", lang=\"en\")))"
   ]
  },
  {
   "cell_type": "code",
   "execution_count": 108,
   "id": "aaac908d",
   "metadata": {},
   "outputs": [
    {
     "data": {
      "text/plain": [
       "<Graph identifier=N7cfb068c188e4b34bbf01af12c6c7b38 (<class 'rdflib.graph.Graph'>)>"
      ]
     },
     "execution_count": 108,
     "metadata": {},
     "output_type": "execute_result"
    }
   ],
   "source": [
    "# add triples to the producer Dan Auerbach\n",
    "song_graph.add((dbr.Dan_Auerbach, RDF.type, Person))\n",
    "song_graph.add((dbr.Dan_Auerbach, dbo.birthName, Literal(\"Daniel Quine Auerbach\", lang=\"en\")))\n",
    "song_graph.add((dbr.Dan_Auerbach, myOnto.hasWikipageID, Literal(\"1342322\", datatype=XSD.integer)))\n",
    "song_graph.add((dbr.Dan_Auerbach, RDFS.label, Literal(\"Dan Auerbach\", lang=\"en\")))\n",
    "song_graph.add((dbr.Dan_Auerbach, RDFS.comment, Literal(\"An American musician, singer-songwriter, and record producer.\", lang=\"en\")))"
   ]
  },
  {
   "cell_type": "markdown",
   "id": "457a09f4",
   "metadata": {},
   "source": [
    "### Adding triples to the record labels"
   ]
  },
  {
   "cell_type": "code",
   "execution_count": 109,
   "id": "cb4eb772",
   "metadata": {},
   "outputs": [
    {
     "data": {
      "text/plain": [
       "<Graph identifier=N7cfb068c188e4b34bbf01af12c6c7b38 (<class 'rdflib.graph.Graph'>)>"
      ]
     },
     "execution_count": 109,
     "metadata": {},
     "output_type": "execute_result"
    }
   ],
   "source": [
    "# add triples to the record label Asylum Records\n",
    "song_graph.add((dbr.Asylum_Records, RDF.type, RecordCompany))\n",
    "song_graph.add((dbr.Asylum_Records, myOnto.hasName, Literal(\"Asylum Records\", lang=\"en\")))\n",
    "song_graph.add((dbr.Asylum_Records, RDFS.label, Literal(\"Asylum Records\", lang=\"en\")))\n",
    "song_graph.add((dbr.Asylum_Records, RDFS.comment, Literal(\"An American record label, founded in 1971 by David Geffen and partner Elliot Roberts.\", lang=\"en\")))"
   ]
  },
  {
   "cell_type": "code",
   "execution_count": 110,
   "id": "e2af4620",
   "metadata": {},
   "outputs": [
    {
     "data": {
      "text/plain": [
       "<Graph identifier=N7cfb068c188e4b34bbf01af12c6c7b38 (<class 'rdflib.graph.Graph'>)>"
      ]
     },
     "execution_count": 110,
     "metadata": {},
     "output_type": "execute_result"
    }
   ],
   "source": [
    "# add triples to the record label Atlantic Records\n",
    "song_graph.add((dbr.Atlantic_Records, RDF.type, RecordCompany))\n",
    "song_graph.add((dbr.Atlantic_Records, myOnto.hasName, Literal(\"Atlantic Records\", lang=\"en\")))\n",
    "song_graph.add((dbr.Atlantic_Records, RDFS.label, Literal(\"Atlantic Records\", lang=\"en\")))\n",
    "song_graph.add((dbr.Atlantic_Records, RDFS.comment, Literal(\"An American record label founded in October 1947 by Ahmet Ertegun and Herb Abramson.\", lang=\"en\")))"
   ]
  },
  {
   "cell_type": "code",
   "execution_count": 111,
   "id": "02b5ccaf",
   "metadata": {},
   "outputs": [
    {
     "data": {
      "text/plain": [
       "<Graph identifier=N7cfb068c188e4b34bbf01af12c6c7b38 (<class 'rdflib.graph.Graph'>)>"
      ]
     },
     "execution_count": 111,
     "metadata": {},
     "output_type": "execute_result"
    }
   ],
   "source": [
    "# add triples to the record label Warner Music Group\n",
    "song_graph.add((dbr.Warner_Music_Group, RDF.type, RecordCompany))\n",
    "song_graph.add((dbr.Warner_Music_Group, myOnto.hasName, Literal(\"Warner Music Group\", lang=\"en\")))\n",
    "song_graph.add((dbr.Warner_Music_Group, RDFS.label, Literal(\"Warner Music Group\", lang=\"en\")))\n",
    "song_graph.add((dbr.Warner_Music_Group, RDFS.comment, Literal(\"An American multinational entertainment and record label conglomerate headquartered in New York City.\", lang=\"en\")))"
   ]
  },
  {
   "cell_type": "code",
   "execution_count": 112,
   "id": "9b4bd3d6",
   "metadata": {},
   "outputs": [
    {
     "data": {
      "text/plain": [
       "<Graph identifier=N7cfb068c188e4b34bbf01af12c6c7b38 (<class 'rdflib.graph.Graph'>)>"
      ]
     },
     "execution_count": 112,
     "metadata": {},
     "output_type": "execute_result"
    }
   ],
   "source": [
    "# add triples to the record label Columbia Records\n",
    "song_graph.add((dbr.Columbia_Records, RDF.type, RecordCompany))\n",
    "song_graph.add((dbr.Columbia_Records, myOnto.hasName, Literal(\"Columbia Records\", lang=\"en\")))\n",
    "song_graph.add((dbr.Columbia_Records, RDFS.label, Literal(\"Columbia Records\", lang=\"en\")))\n",
    "song_graph.add((dbr.Columbia_Records, RDFS.comment, Literal(\"An American record label owned by Sony Music Entertainment.\", lang=\"en\")))"
   ]
  },
  {
   "cell_type": "code",
   "execution_count": 113,
   "id": "ec966804",
   "metadata": {},
   "outputs": [
    {
     "data": {
      "text/plain": [
       "<Graph identifier=N7cfb068c188e4b34bbf01af12c6c7b38 (<class 'rdflib.graph.Graph'>)>"
      ]
     },
     "execution_count": 113,
     "metadata": {},
     "output_type": "execute_result"
    }
   ],
   "source": [
    "# add triples to the record label XL Recordings\n",
    "song_graph.add((dbr.XL_Recordings, RDF.type, RecordCompany))\n",
    "song_graph.add((dbr.XL_Recordings, myOnto.hasName, Literal(\"XL Recordings\", lang=\"en\")))\n",
    "song_graph.add((dbr.XL_Recordings, RDFS.label, Literal(\"XL Recordings\", lang=\"en\")))\n",
    "song_graph.add((dbr.XL_Recordings, RDFS.comment, Literal(\"A British independent record label founded in 1989 by Tim Palmer and Nick Halkes.\", lang=\"en\")))"
   ]
  },
  {
   "cell_type": "code",
   "execution_count": 114,
   "id": "81f0bb6d",
   "metadata": {},
   "outputs": [
    {
     "data": {
      "text/plain": [
       "<Graph identifier=N7cfb068c188e4b34bbf01af12c6c7b38 (<class 'rdflib.graph.Graph'>)>"
      ]
     },
     "execution_count": 114,
     "metadata": {},
     "output_type": "execute_result"
    }
   ],
   "source": [
    "# add triples to the record label Interscope Records\n",
    "song_graph.add((dbr.Interscope_Records, RDF.type, RecordCompany))\n",
    "song_graph.add((dbr.Interscope_Records, myOnto.hasName, Literal(\"Interscope Records\", lang=\"en\")))\n",
    "song_graph.add((dbr.Interscope_Records, RDFS.label, Literal(\"Interscope Records\", lang=\"en\")))\n",
    "song_graph.add((dbr.Interscope_Records, RDFS.comment, Literal(\"An American record label owned by Universal Music Group.\", lang=\"en\")))"
   ]
  },
  {
   "cell_type": "code",
   "execution_count": 115,
   "id": "a96233f1",
   "metadata": {},
   "outputs": [
    {
     "data": {
      "text/plain": [
       "<Graph identifier=N7cfb068c188e4b34bbf01af12c6c7b38 (<class 'rdflib.graph.Graph'>)>"
      ]
     },
     "execution_count": 115,
     "metadata": {},
     "output_type": "execute_result"
    }
   ],
   "source": [
    "# add triples to the record label Def Jam Recordings\n",
    "song_graph.add((dbr.Def_Jam_Recordings, RDF.type, RecordCompany))\n",
    "song_graph.add((dbr.Def_Jam_Recordings, myOnto.hasName, Literal(\"Def Jam Recordings\", lang=\"en\")))\n",
    "song_graph.add((dbr.Def_Jam_Recordings, RDFS.label, Literal(\"Def Jam Recordings\", lang=\"en\")))\n",
    "song_graph.add((dbr.Def_Jam_Recordings, RDFS.comment, Literal(\"An American multinational record label owned by Universal Music Group.\", lang=\"en\")))"
   ]
  },
  {
   "cell_type": "code",
   "execution_count": 116,
   "id": "d6256414",
   "metadata": {},
   "outputs": [
    {
     "data": {
      "text/plain": [
       "<Graph identifier=N7cfb068c188e4b34bbf01af12c6c7b38 (<class 'rdflib.graph.Graph'>)>"
      ]
     },
     "execution_count": 116,
     "metadata": {},
     "output_type": "execute_result"
    }
   ],
   "source": [
    "# add triples to the record label Republic Records\n",
    "song_graph.add((dbr.Republic_Records, RDF.type, RecordCompany))\n",
    "song_graph.add((dbr.Republic_Records, myOnto.hasName, Literal(\"Republic Records\", lang=\"en\")))\n",
    "song_graph.add((dbr.Republic_Records, RDFS.label, Literal(\"Republic Records\", lang=\"en\")))\n",
    "song_graph.add((dbr.Republic_Records, RDFS.comment, Literal(\"A New York City–based American record label.\", lang=\"en\")))"
   ]
  },
  {
   "cell_type": "code",
   "execution_count": 117,
   "id": "36ffd537",
   "metadata": {},
   "outputs": [
    {
     "data": {
      "text/plain": [
       "<Graph identifier=N7cfb068c188e4b34bbf01af12c6c7b38 (<class 'rdflib.graph.Graph'>)>"
      ]
     },
     "execution_count": 117,
     "metadata": {},
     "output_type": "execute_result"
    }
   ],
   "source": [
    "# add triples to the record label GOOD Music\n",
    "song_graph.add((dbr.GOOD_Music, RDF.type, RecordCompany))\n",
    "song_graph.add((dbr.GOOD_Music, myOnto.hasName, Literal(\"GOOD Music\", lang=\"en\")))\n",
    "song_graph.add((dbr.GOOD_Music, RDFS.label, Literal(\"GOOD Music\", lang=\"en\")))\n",
    "song_graph.add((dbr.GOOD_Music, RDFS.comment, Literal(\"An American record label founded by rapper Kanye West.\", lang=\"en\")))"
   ]
  },
  {
   "cell_type": "code",
   "execution_count": 118,
   "id": "4d464817",
   "metadata": {},
   "outputs": [
    {
     "data": {
      "text/plain": [
       "<Graph identifier=N7cfb068c188e4b34bbf01af12c6c7b38 (<class 'rdflib.graph.Graph'>)>"
      ]
     },
     "execution_count": 118,
     "metadata": {},
     "output_type": "execute_result"
    }
   ],
   "source": [
    "# add triples to the record label Universal Music Group\n",
    "song_graph.add((dbr.Universal_Music_Group, RDF.type, RecordCompany))\n",
    "song_graph.add((dbr.Universal_Music_Group, myOnto.hasName, Literal(\"Universal Music Group\", lang=\"en\")))\n",
    "song_graph.add((dbr.Universal_Music_Group, RDFS.label, Literal(\"Universal Music Group\", lang=\"en\")))\n",
    "song_graph.add((dbr.Universal_Music_Group, RDFS.comment, Literal(\"A Dutch–American multinational music corporation.\", lang=\"en\")))"
   ]
  },
  {
   "cell_type": "code",
   "execution_count": 119,
   "id": "1f770b13",
   "metadata": {},
   "outputs": [
    {
     "data": {
      "text/plain": [
       "<Graph identifier=N7cfb068c188e4b34bbf01af12c6c7b38 (<class 'rdflib.graph.Graph'>)>"
      ]
     },
     "execution_count": 119,
     "metadata": {},
     "output_type": "execute_result"
    }
   ],
   "source": [
    "# add triples to the record label Big Machine Records\n",
    "song_graph.add((dbr.Big_Machine_Records, RDF.type, RecordCompany))\n",
    "song_graph.add((dbr.Big_Machine_Records, myOnto.hasName, Literal(\"Big Machine Records\", lang=\"en\")))\n",
    "song_graph.add((dbr.Big_Machine_Records, RDFS.label, Literal(\"Big Machine Records\", lang=\"en\")))\n",
    "song_graph.add((dbr.Big_Machine_Records, RDFS.comment, Literal(\"An American independent record label.\", lang=\"en\")))"
   ]
  },
  {
   "cell_type": "code",
   "execution_count": 120,
   "id": "6908e1c9",
   "metadata": {},
   "outputs": [
    {
     "data": {
      "text/plain": [
       "<Graph identifier=N7cfb068c188e4b34bbf01af12c6c7b38 (<class 'rdflib.graph.Graph'>)>"
      ]
     },
     "execution_count": 120,
     "metadata": {},
     "output_type": "execute_result"
    }
   ],
   "source": [
    "# add triples to the record label RCA Records\n",
    "song_graph.add((dbr.RCA_Records, RDF.type, RecordCompany))\n",
    "song_graph.add((dbr.RCA_Records, myOnto.hasName, Literal(\"RCA Records\", lang=\"en\")))\n",
    "song_graph.add((dbr.RCA_Records, RDFS.label, Literal(\"RCA Records\", lang=\"en\")))\n",
    "song_graph.add((dbr.RCA_Records, RDFS.comment, Literal(\"An American record label currently owned by Sony Music Entertainment.\", lang=\"en\")))"
   ]
  },
  {
   "cell_type": "code",
   "execution_count": 121,
   "id": "95a7b75a",
   "metadata": {},
   "outputs": [
    {
     "data": {
      "text/plain": [
       "<Graph identifier=N7cfb068c188e4b34bbf01af12c6c7b38 (<class 'rdflib.graph.Graph'>)>"
      ]
     },
     "execution_count": 121,
     "metadata": {},
     "output_type": "execute_result"
    }
   ],
   "source": [
    "# add triples to the record label Interscope Records\n",
    "song_graph.add((dbr.Interscope_Records, RDF.type, RecordCompany))\n",
    "song_graph.add((dbr.Interscope_Records, myOnto.hasName, Literal(\"Interscope Records\", lang=\"en\")))\n",
    "song_graph.add((dbr.Interscope_Records, RDFS.label, Literal(\"Interscope Records\", lang=\"en\")))\n",
    "song_graph.add((dbr.Interscope_Records, RDFS.comment, Literal(\"An American record label owned by Universal Music Group.\", lang=\"en\")))"
   ]
  },
  {
   "cell_type": "code",
   "execution_count": 122,
   "id": "4118ce0a",
   "metadata": {},
   "outputs": [
    {
     "name": "stdout",
     "output_type": "stream",
     "text": [
      "@prefix : <http://www.mysemantics.com/resource/> .\n",
      "@prefix dbo: <http://dbpedia.org/ontology/> .\n",
      "@prefix dbr: <http://dbpedia.org/resource/> .\n",
      "@prefix foaf: <http://xmlns.com/foaf/0.1/> .\n",
      "@prefix myOnto: <http://www.mysemantics.com/ontology/> .\n",
      "@prefix rdfs: <http://www.w3.org/2000/01/rdf-schema#> .\n",
      "@prefix xsd: <http://www.w3.org/2001/XMLSchema#> .\n",
      "\n",
      "dbr:Best_Part_of_Me a myOnto:Song ;\n",
      "    rdfs:label \"Best Part of Me\"@en ;\n",
      "    dbo:artist dbr:Ed_Sheeran ;\n",
      "    dbo:genre dbr:Pop_music ;\n",
      "    dbo:producer dbr:Benny_Blanco ;\n",
      "    dbo:recordLabel dbr:Asylum_Records,\n",
      "        dbr:Atlantic_Records ;\n",
      "    dbo:releaseDate \"2019-07-05\"^^xsd:date ;\n",
      "    dbo:writer dbr:Benny_Blanco,\n",
      "        dbr:Ed_Sheeran,\n",
      "        dbr:Yebba ;\n",
      "    myOnto:hasName \"Best Part of Me\"@en ;\n",
      "    rdfs:comment \"A song by English singer-songwriter Ed Sheeran.\"@en .\n",
      "\n",
      "dbr:Blank_Space a myOnto:Song ;\n",
      "    rdfs:label \"Blank Space\"@en ;\n",
      "    dbo:artist dbr:Taylor_Swift ;\n",
      "    dbo:genre dbr:Electropop ;\n",
      "    dbo:producer dbr:Max_Martin ;\n",
      "    dbo:recordLabel dbr:Big_Machine_Records ;\n",
      "    dbo:releaseDate \"2014-11-10\"^^xsd:date ;\n",
      "    dbo:writer dbr:Max_Martin ;\n",
      "    myOnto:hasName \"Blank Space\"@en ;\n",
      "    rdfs:comment \"A song by American singer-songwriter Taylor Swift.\"@en .\n",
      "\n",
      "dbr:De_Una_Vez a myOnto:Song ;\n",
      "    rdfs:label \"De Una Vez\"@en ;\n",
      "    dbo:artist dbr:Selena_Gomez ;\n",
      "    dbo:genre dbr:Pop_music ;\n",
      "    dbo:producer dbr:Tainy ;\n",
      "    dbo:recordLabel dbr:Interscope_Records ;\n",
      "    dbo:releaseDate \"2021-01-14\"^^xsd:date ;\n",
      "    dbo:writer dbr:Elena_Rose,\n",
      "        dbr:Tainy ;\n",
      "    myOnto:hasName \"De Una Vez\"@en ;\n",
      "    rdfs:comment \"A song recorded by American singer Selena Gomez.\"@en .\n",
      "\n",
      "dbr:Easy_on_Me a myOnto:Song ;\n",
      "    rdfs:label \"Easy on Me\"@en ;\n",
      "    dbo:artist dbr:Adele ;\n",
      "    dbo:genre dbr:Pop_music ;\n",
      "    dbo:producer dbr:Greg_Kurstin ;\n",
      "    dbo:recordLabel dbr:Columbia_Records ;\n",
      "    dbo:releaseDate \"2021-10-15\"^^xsd:date ;\n",
      "    dbo:writer dbr:Adele,\n",
      "        dbr:Greg_Kurstin ;\n",
      "    myOnto:hasName \"Easy on Me\"@en ;\n",
      "    rdfs:comment \"A song by English singer Adele from her fourth studio album.\"@en .\n",
      "\n",
      "dbr:Freestyle_4 a myOnto:Song ;\n",
      "    rdfs:label \"Freestyle 4\"@en ;\n",
      "    dbo:artist dbr:Kanye_West ;\n",
      "    dbo:genre dbr:Progressive_hop ;\n",
      "    dbo:producer dbr:Hudson_Mohawke ;\n",
      "    dbo:recordLabel dbr:Def_Jam_Recordings,\n",
      "        dbr:GOOD_Music ;\n",
      "    dbo:releaseDate \"2016-02-14\"^^xsd:date ;\n",
      "    dbo:writer dbr:Alison_Goldfrapp,\n",
      "        dbr:Caroline_Shaw,\n",
      "        dbr:Desiigner,\n",
      "        dbr:Hudson_Mohawke,\n",
      "        dbr:Kanye_West,\n",
      "        dbr:Will_Gregory ;\n",
      "    myOnto:hasName \"Freestyle 4\"@en ;\n",
      "    rdfs:comment \"A song by American hip-hop artist Kanye West that features vocals from rapper Desiigner.\"@en .\n",
      "\n",
      "dbr:Hometown_Glory a myOnto:Song ;\n",
      "    rdfs:label \"Hometown Glory\"@en ;\n",
      "    dbo:artist dbr:Adele ;\n",
      "    dbo:genre dbr:Soul_music ;\n",
      "    dbo:producer dbr:Jim_Abbiss ;\n",
      "    dbo:recordLabel dbr:Columbia_Records,\n",
      "        dbr:XL_Recordings ;\n",
      "    dbo:releaseDate \"2007-10-22\"^^xsd:date ;\n",
      "    dbo:writer dbr:Adele ;\n",
      "    myOnto:hasName \"Hometown Glory\"@en ;\n",
      "    rdfs:comment \"The debut single by English singer-songwriter Adele.\"@en .\n",
      "\n",
      "dbr:Lego_House a myOnto:Song ;\n",
      "    rdfs:label \"Lego House\"@en ;\n",
      "    dbo:artist dbr:Ed_Sheeran ;\n",
      "    dbo:genre dbr:Pop_music ;\n",
      "    dbo:producer dbr:Jake_Gosling ;\n",
      "    dbo:recordLabel dbr:Warner_Music_Group ;\n",
      "    dbo:releaseDate \"2011-11-11\"^^xsd:date ;\n",
      "    dbo:writer dbr:Ed_Sheeran,\n",
      "        dbr:Jake_Gosling ;\n",
      "    myOnto:hasName \"Lego House\"@en ;\n",
      "    rdfs:comment \"A song by English singer-songwriter Ed Sheeran.\"@en .\n",
      "\n",
      "dbr:Look_What_You_Made_Me_Do a myOnto:Song ;\n",
      "    rdfs:label \"Look What You Made Me Do\"@en ;\n",
      "    dbo:artist dbr:Taylor_Swift ;\n",
      "    dbo:genre dbr:Electropop ;\n",
      "    dbo:producer dbr:Jack_Antonoff,\n",
      "        dbr:Taylor_Swift ;\n",
      "    dbo:recordLabel dbr:Big_Machine_Records ;\n",
      "    dbo:releaseDate \"2017-08-24\"^^xsd:date ;\n",
      "    dbo:writer dbr:Jack_Antonoff,\n",
      "        dbr:Richard_Fairbrass ;\n",
      "    myOnto:hasName \"Look What You Made Me Do\"@en ;\n",
      "    rdfs:comment \"A song recorded by American singer-songwriter Taylor Swift.\"@en .\n",
      "\n",
      "dbr:Nothing_Is_Promised a myOnto:Song ;\n",
      "    rdfs:label \"Nothing Is Promised\"@en ;\n",
      "    dbo:artist dbr:Rihanna ;\n",
      "    dbo:genre dbr:Hip_hop_music ;\n",
      "    dbo:producer dbr:Mike_Will_Made_It ;\n",
      "    dbo:recordLabel dbr:Interscope_Records,\n",
      "        dbr:Rihanna ;\n",
      "    dbo:releaseDate \"2016-06-03\"^^xsd:date ;\n",
      "    dbo:writer dbr:Greg_Kurstin,\n",
      "        dbr:Mike_Will_Made_It ;\n",
      "    myOnto:hasName \"Nothing Is Promised\"@en ;\n",
      "    rdfs:comment \"A song recorded by American producer Mike Will Made It and Barbadian recording artist Rihanna.\"@en .\n",
      "\n",
      "dbr:Progressive_rap a dbo:MusicGenre ;\n",
      "    rdfs:label \"Progressive rap\"@en ;\n",
      "    rdfs:comment \"A genre of a broad subgenre of hip hop music.\"@en ;\n",
      "    foaf:name \"Progressive rap\"@en .\n",
      "\n",
      "dbr:Rolling_in_the_Deep a myOnto:Song ;\n",
      "    rdfs:label \"Rolling in the Deep\"@en ;\n",
      "    dbo:artist dbr:Adele ;\n",
      "    dbo:genre dbr:Soul_music ;\n",
      "    dbo:producer dbr:Paul_Epworth ;\n",
      "    dbo:recordLabel dbr:Columbia_Records,\n",
      "        dbr:XL_Recordings ;\n",
      "    dbo:releaseDate \"2010-11-29\"^^xsd:date ;\n",
      "    dbo:writer dbr:Adele,\n",
      "        dbr:Paul_Epworth ;\n",
      "    myOnto:hasName \"Rolling in the Deep\"@en ;\n",
      "    rdfs:comment \"A song recorded by English singer-songwriter Adele for her second studio album.\"@en .\n",
      "\n",
      "dbr:Same_Old_Love a myOnto:Song ;\n",
      "    rdfs:label \"Same Old Love\"@en ;\n",
      "    dbo:artist dbr:Selena_Gomez ;\n",
      "    dbo:genre dbr:Electropop ;\n",
      "    dbo:producer dbr:Benny_Blanco ;\n",
      "    dbo:recordLabel dbr:Universal_Music_Group ;\n",
      "    dbo:releaseDate \"2015-09-10\"^^xsd:date ;\n",
      "    dbo:writer dbr:Benny_Blanco,\n",
      "        dbr:Charli_XCX,\n",
      "        dbr:Ross_Golan ;\n",
      "    myOnto:hasName \"Same Old Love\"@en ;\n",
      "    rdfs:comment \"A song recorded by American singer Selena Gomez.\"@en .\n",
      "\n",
      "dbr:Santa_Tell_Me a myOnto:Song ;\n",
      "    rdfs:label \"Santa Tell Me\"@en ;\n",
      "    dbo:artist dbr:Ariana_Grande ;\n",
      "    dbo:genre dbr:Pop_music ;\n",
      "    dbo:producer dbr:Ilya_Salmanzadeh ;\n",
      "    dbo:recordLabel dbr:Republic_Records ;\n",
      "    dbo:releaseDate \"2014-11-24\"^^xsd:date ;\n",
      "    dbo:writer dbr:Ilya_Salmanzadeh,\n",
      "        dbr:Savan_Kotecha ;\n",
      "    myOnto:hasName \"Santa Tell Me\"@en ;\n",
      "    rdfs:comment \"A Christmas song recorded by American singer Ariana Grande.\"@en .\n",
      "\n",
      "dbr:Shades_of_Cool a myOnto:Song ;\n",
      "    rdfs:label \"Shades of Cool\"@en ;\n",
      "    dbo:artist dbr:Lana_Del_Rey ;\n",
      "    dbo:genre dbr:Pop_music ;\n",
      "    dbo:producer dbr:Dan_Auerbach ;\n",
      "    dbo:recordLabel dbr:Interscope_Records ;\n",
      "    dbo:releaseDate \"2012-06-22\"^^xsd:date ;\n",
      "    dbo:writer dbr:Rick_Nowels ;\n",
      "    myOnto:hasName \"Shades of Cool\"@en ;\n",
      "    rdfs:comment \"A song by American singer-songwriter Lana Del Rey.\"@en .\n",
      "\n",
      "dbr:Summertime_Sadness a myOnto:Song ;\n",
      "    rdfs:label \"Summertime Sadness\"@en ;\n",
      "    dbo:artist dbr:Lana_Del_Rey ;\n",
      "    dbo:genre dbr:Pop_music ;\n",
      "    dbo:producer dbr:Emile_Haynie ;\n",
      "    dbo:recordLabel dbr:Interscope_Records ;\n",
      "    dbo:releaseDate \"2012-06-22\"^^xsd:date ;\n",
      "    dbo:writer dbr:Rick_Nowels ;\n",
      "    myOnto:hasName \"Summertime Sadness\"@en ;\n",
      "    rdfs:comment \"A song by Lana Del Rey from her second major-label studio album.\"@en .\n",
      "\n",
      "dbr:The_Light_Is_Coming a myOnto:Song ;\n",
      "    rdfs:label \"The Light Is Coming\"@en ;\n",
      "    dbo:artist dbr:Ariana_Grande ;\n",
      "    dbo:genre dbr:Dance_music ;\n",
      "    dbo:producer dbr:Pharrell_Williams ;\n",
      "    dbo:recordLabel dbr:Republic_Records ;\n",
      "    dbo:releaseDate \"2018-06-20\"^^xsd:date ;\n",
      "    dbo:writer dbr:Nicki_Minaj,\n",
      "        dbr:Pharrell_Williams ;\n",
      "    myOnto:hasName \"The Light Is Coming\"@en ;\n",
      "    rdfs:comment \"A song by American singer Ariana Grande, featuring American rapper Nicki Minaj.\"@en .\n",
      "\n",
      "dbr:Thinking_Out_Loud a myOnto:Song ;\n",
      "    rdfs:label \"Think Out Loud\"@en ;\n",
      "    dbo:artist dbr:Ed_Sheeran ;\n",
      "    dbo:genre dbr:Soft_rock ;\n",
      "    dbo:producer dbr:Jake_Gosling ;\n",
      "    dbo:recordLabel dbr:Asylum_Records,\n",
      "        dbr:Atlantic_Records ;\n",
      "    dbo:releaseDate \"2014-09-24\"^^xsd:date ;\n",
      "    dbo:writer dbr:Amy_Wadge,\n",
      "        dbr:Ed_Sheeran ;\n",
      "    myOnto:hasName \"Think Out Loud\"@en ;\n",
      "    rdfs:comment \"A song by English singer-songwriter Ed Sheeran.\"@en .\n",
      "\n",
      "dbr:We_Found_Love a myOnto:Song ;\n",
      "    rdfs:label \"We Found Love\"@en ;\n",
      "    dbo:artist dbr:Rihanna ;\n",
      "    dbo:genre dbr:Electro_house ;\n",
      "    dbo:producer dbr:Calvin_Harris ;\n",
      "    dbo:recordLabel dbr:Def_Jam_Recordings ;\n",
      "    dbo:releaseDate \"2011-09-22\"^^xsd:date ;\n",
      "    dbo:writer dbr:Calvin_Harris ;\n",
      "    myOnto:hasName \"We Found Love\"@en ;\n",
      "    rdfs:comment \"A song by Barbadian singer Rihanna from her sixth studio album.\"@en .\n",
      "\n",
      ":BlackBeauty a myOnto:Song ;\n",
      "    rdfs:label \"Black Beauty\"@en ;\n",
      "    dbo:artist dbr:Lana_Del_Rey ;\n",
      "    dbo:genre dbr:Electronic_music ;\n",
      "    dbo:producer dbr:Paul_Epworth ;\n",
      "    dbo:recordLabel dbr:Universal_Music_Group ;\n",
      "    dbo:releaseDate \"2014-11-21\"^^xsd:date ;\n",
      "    dbo:writer dbr:Lana_Del_Rey,\n",
      "        dbr:Rick_Nowels ;\n",
      "    myOnto:hasName \"Black Beauty\"@en ;\n",
      "    rdfs:comment \"A song by Lana Del Rey from her second major-label studio album.\"@en .\n",
      "\n",
      ":DancetheNight a myOnto:Song ;\n",
      "    rdfs:label \"Dance the Night\"@en ;\n",
      "    dbo:artist dbr:Dua_Lipa ;\n",
      "    dbo:genre dbr:Disco ;\n",
      "    dbo:producer dbr:Andrew_Wyatt,\n",
      "        dbr:Mark_Ronson ;\n",
      "    dbo:recordLabel dbr:Atlantic_Records ;\n",
      "    dbo:releaseDate \"2023-05-25\"^^xsd:date ;\n",
      "    dbo:writer dbr:Andrew_Wyatt,\n",
      "        dbr:Caroline_Ailin,\n",
      "        dbr:Dua_Lipa,\n",
      "        dbr:Mark_Ronson ;\n",
      "    myOnto:hasName \"Dance the Night\"@en ;\n",
      "    rdfs:comment \"A song by English and Albanian singer Dua Lipa.\"@en .\n",
      "\n",
      ":Fire a myOnto:Song ;\n",
      "    rdfs:label \"Fire\"@en ;\n",
      "    dbo:artist dbr:Gavin_DeGraw ;\n",
      "    dbo:genre dbr:Pop_music ;\n",
      "    dbo:producer dbr:Max_Martin ;\n",
      "    dbo:recordLabel dbr:RCA_Records ;\n",
      "    dbo:releaseDate \"2014-08-12\"^^xsd:date ;\n",
      "    dbo:writer dbr:Gavin_DeGraw ;\n",
      "    myOnto:hasName \"Fire\"@en ;\n",
      "    rdfs:comment \"A song by an American singer-songwriter Gavin DeGraw.\"@en .\n",
      "\n",
      ":Flowers a myOnto:Song ;\n",
      "    rdfs:label \"Flowers\"@en ;\n",
      "    dbo:artist dbr:Miley_Cyrus ;\n",
      "    dbo:genre dbr:Funk ;\n",
      "    dbo:producer dbr:Kid_Harpoon ;\n",
      "    dbo:recordLabel dbr:Columbia_Records ;\n",
      "    dbo:releaseDate \"2023-01-12\"^^xsd:date ;\n",
      "    dbo:writer dbr:Michael_Pollack,\n",
      "        dbr:Miley_Cyrus ;\n",
      "    myOnto:hasName \"Flowers\"@en ;\n",
      "    rdfs:comment \"A song by American singer Miley Cyrus.\"@en .\n",
      "\n",
      ":SayYesToHeaven a myOnto:Song ;\n",
      "    rdfs:label \"Say Yes to Heaven\"@en ;\n",
      "    dbo:artist dbr:Lana_Del_Rey ;\n",
      "    dbo:genre dbr:Soft_rock ;\n",
      "    dbo:producer dbr:Rick_Nowels ;\n",
      "    dbo:recordLabel dbr:Interscope_Records ;\n",
      "    dbo:releaseDate \"2023-05-19\"^^xsd:date ;\n",
      "    dbo:writer dbr:Lana_Del_Rey,\n",
      "        dbr:Rick_Nowels ;\n",
      "    myOnto:hasName \"Say Yes to Heaven\"@en ;\n",
      "    rdfs:comment \"A song by American singer-songwriter Lana Del Rey.\"@en .\n",
      "\n",
      "dbr:Alison_Goldfrapp a myOnto:Person ;\n",
      "    rdfs:label \"Alison Goldfrapp\"@en ;\n",
      "    dbo:birthName \"Alison Elizabeth Margaret Goldfrapp\"@en ;\n",
      "    myOnto:hasWikipageID 2134961 ;\n",
      "    rdfs:comment \"An English musician and record producer.\"@en .\n",
      "\n",
      "dbr:Amy_Wadge a myOnto:Person ;\n",
      "    rdfs:label \"Amy Wadge\"@en ;\n",
      "    dbo:birthName \"Amy Victoria Wadge\"@en ;\n",
      "    myOnto:hasWikipageID 3159640 ;\n",
      "    rdfs:comment \"An English singer and songwriter.\"@en .\n",
      "\n",
      "dbr:Caroline_Ailin a myOnto:Person ;\n",
      "    rdfs:label \"Caroline Ailin\"@en ;\n",
      "    dbo:birthName \"Caroline Ailin Buvik Furøyen\"@en ;\n",
      "    myOnto:hasWikipageID 60075331 ;\n",
      "    rdfs:comment \"A Norwegian singer and songwriter based in London.\"@en .\n",
      "\n",
      "dbr:Caroline_Shaw a myOnto:Person ;\n",
      "    rdfs:label \"Caroline Shaw\"@en ;\n",
      "    dbo:birthName \"Caroline Adelaide Shaw\"@en ;\n",
      "    myOnto:hasWikipageID 39254203 ;\n",
      "    rdfs:comment \"An American composer, violinist, and singer.\"@en .\n",
      "\n",
      "dbr:Charli_XCX a myOnto:Person ;\n",
      "    rdfs:label \"Charli XCX\"@en ;\n",
      "    dbo:birthName \"Charlotte Emma Aitchison\"@en ;\n",
      "    myOnto:hasWikipageID 34953684 ;\n",
      "    rdfs:comment \"An English singer and songwriter.\"@en .\n",
      "\n",
      "dbr:Dan_Auerbach a myOnto:Person ;\n",
      "    rdfs:label \"Dan Auerbach\"@en ;\n",
      "    dbo:birthName \"Daniel Quine Auerbach\"@en ;\n",
      "    myOnto:hasWikipageID 1342322 ;\n",
      "    rdfs:comment \"An American musician, singer-songwriter, and record producer.\"@en .\n",
      "\n",
      "dbr:Dance_music a dbo:MusicGenre ;\n",
      "    rdfs:label \"Dance music\"@en ;\n",
      "    rdfs:comment \"Music composed specifically to facilitate or accompany dancing.\"@en ;\n",
      "    foaf:name \"Dance music\"@en .\n",
      "\n",
      "dbr:Desiigner a myOnto:Person ;\n",
      "    rdfs:label \"Desiigner\"@en ;\n",
      "    dbo:birthName \"Sidney Royel Selby III\"@en ;\n",
      "    myOnto:hasWikipageID 49400746 ;\n",
      "    rdfs:comment \"An American rapper and singer.\"@en .\n",
      "\n",
      "dbr:Disco a dbo:MusicGenre ;\n",
      "    rdfs:label \"Disco\"@en ;\n",
      "    rdfs:comment \"A genre of dance music and a subculture that emerged in the 1970s.\"@en ;\n",
      "    foaf:name \"Disco\"@en .\n",
      "\n",
      "dbr:Electro_house a dbo:MusicGenre ;\n",
      "    rdfs:label \"Electro house\"@en ;\n",
      "    rdfs:comment \"A genre of electronic dance music characterized by heavy bass and a tempo around 130 beats per minute.\"@en ;\n",
      "    foaf:name \"Electro house\"@en .\n",
      "\n",
      "dbr:Electronic_music a dbo:MusicGenre ;\n",
      "    rdfs:label \"Electronic music\"@en ;\n",
      "    rdfs:comment \"A genre that employs electronic musical instruments or digital instruments in its creation.\"@en ;\n",
      "    foaf:name \"Electronic music\"@en .\n",
      "\n",
      "dbr:Elena_Rose a myOnto:Person ;\n",
      "    rdfs:label \"Elena Rose\"@en ;\n",
      "    dbo:birthName \"Andrea Elena Mangiamarchi\"@en ;\n",
      "    myOnto:hasWikipageID 64498981 ;\n",
      "    rdfs:comment \"A Venezuelan American singer and songwriter from Miami.\"@en .\n",
      "\n",
      "dbr:Emile_Haynie a myOnto:Person ;\n",
      "    rdfs:label \"Emile Haynie\"@en ;\n",
      "    dbo:birthName \"Emile Haynie\"@en ;\n",
      "    myOnto:hasWikipageID 34605063 ;\n",
      "    rdfs:comment \"An American music producer from Buffalo, New York.\"@en .\n",
      "\n",
      "dbr:Funk a dbo:MusicGenre ;\n",
      "    rdfs:label \"Funk\"@en ;\n",
      "    rdfs:comment \"A music genre originated in African American communities in the mid-1960s.\"@en ;\n",
      "    foaf:name \"Funk\"@en .\n",
      "\n",
      "dbr:GOOD_Music a myOnto:RecordCompany ;\n",
      "    rdfs:label \"GOOD Music\"@en ;\n",
      "    myOnto:hasName \"GOOD Music\"@en ;\n",
      "    rdfs:comment \"An American record label founded by rapper Kanye West.\"@en .\n",
      "\n",
      "dbr:Hip_hop_music a dbo:MusicGenre ;\n",
      "    rdfs:label \"Hip hop music\"@en ;\n",
      "    rdfs:comment \"A genre of popular music that originated in New York City in the 1970s.\"@en ;\n",
      "    foaf:name \"Hip hop music\"@en .\n",
      "\n",
      "dbr:Jim_Abbiss a myOnto:Person ;\n",
      "    rdfs:label \"Jim Abbiss\"@en ;\n",
      "    dbo:birthName \"Jim Abbiss\"@en ;\n",
      "    myOnto:hasWikipageID 13619094 ;\n",
      "    rdfs:comment \"A British music producer.\"@en .\n",
      "\n",
      "dbr:Kid_Harpoon a myOnto:Person ;\n",
      "    rdfs:label \"Kid Harpoon\"@en ;\n",
      "    dbo:birthName \"Thomas Edward Percy Hull\"@en ;\n",
      "    myOnto:hasWikipageID 11485463 ;\n",
      "    rdfs:comment \"An English singer, songwriter, musician and record producer.\"@en .\n",
      "\n",
      "dbr:Michael_Pollack a myOnto:Person ;\n",
      "    rdfs:label \"Michael Pollack\"@en ;\n",
      "    dbo:birthName \"Michael Ross Pollack\"@en ;\n",
      "    myOnto:hasWikipageID 63056561 ;\n",
      "    rdfs:comment \"An American songwriter and record producer.\"@en .\n",
      "\n",
      "dbr:Nicki_Minaj a myOnto:Person ;\n",
      "    rdfs:label \"Nicki Minaj\"@en ;\n",
      "    dbo:birthName \"Onika Tanya Maraj\"@en ;\n",
      "    myOnto:hasWikipageID 22570683 ;\n",
      "    rdfs:comment \"A Trinidadian-born rapper based in the United States.\"@en .\n",
      "\n",
      "dbr:RCA_Records a myOnto:RecordCompany ;\n",
      "    rdfs:label \"RCA Records\"@en ;\n",
      "    myOnto:hasName \"RCA Records\"@en ;\n",
      "    rdfs:comment \"An American record label currently owned by Sony Music Entertainment.\"@en .\n",
      "\n",
      "dbr:Richard_Fairbrass a myOnto:Person ;\n",
      "    rdfs:label \"Richard Fairbrass\"@en ;\n",
      "    dbo:birthName \"Richard Peter John Fairbrass\"@en ;\n",
      "    myOnto:hasWikipageID 4314218 ;\n",
      "    rdfs:comment \"An English singer, bassist and television presenter.\"@en .\n",
      "\n",
      "dbr:Ross_Golan a myOnto:Person ;\n",
      "    rdfs:label \"Ross Golan\"@en ;\n",
      "    dbo:birthName \"Ross Golan\"@en ;\n",
      "    myOnto:hasWikipageID 37155421 ;\n",
      "    rdfs:comment \"A multi-award-winning American songwriter, record producer and playwright.\"@en .\n",
      "\n",
      "dbr:Savan_Kotecha a myOnto:Person ;\n",
      "    rdfs:label \"Savan Kotecha\"@en ;\n",
      "    dbo:birthName \"Savan Harish Kotecha\"@en ;\n",
      "    myOnto:hasWikipageID 14091317 ;\n",
      "    rdfs:comment \"An American songwriter and record producer from Austin, Texas.\"@en .\n",
      "\n",
      "dbr:Warner_Music_Group a myOnto:RecordCompany ;\n",
      "    rdfs:label \"Warner Music Group\"@en ;\n",
      "    myOnto:hasName \"Warner Music Group\"@en ;\n",
      "    rdfs:comment \"An American multinational entertainment and record label conglomerate headquartered in New York City.\"@en .\n",
      "\n",
      "dbr:Will_Gregory a myOnto:Person ;\n",
      "    rdfs:label \"William Gregory\"@en ;\n",
      "    dbo:birthName \"William Owen Gregory\"@en ;\n",
      "    myOnto:hasWikipageID 4187747 ;\n",
      "    rdfs:comment \"An English musician and record producer.\"@en .\n",
      "\n",
      "dbr:Yebba a myOnto:Person ;\n",
      "    rdfs:label \"Yebba\"@en ;\n",
      "    dbo:birthName \"Abigail Elizabeth Smith\"@en ;\n",
      "    myOnto:hasWikipageID 60645033 ;\n",
      "    rdfs:comment \"An American singer and songwriter from West Memphis, Arkansas.\"@en .\n",
      "\n",
      "dbr:Andrew_Wyatt a myOnto:Person ;\n",
      "    rdfs:label \"Andrew Wyatt\"@en ;\n",
      "    dbo:birthName \"Andrew Wyatt Blakemore\"@en ;\n",
      "    myOnto:hasWikipageID 13118249 ;\n",
      "    rdfs:comment \"An American musician, songwriter and record producer.\"@en .\n",
      "\n",
      "dbr:Ariana_Grande a myOnto:Person ;\n",
      "    rdfs:label \"Ariana Grande\"@en ;\n",
      "    dbo:birthName \"Ariana Grande-Butera\"@en ;\n",
      "    myOnto:hasWikipageID 25276055 ;\n",
      "    rdfs:comment \"An American singer, songwriter, and actress.\"@en .\n",
      "\n",
      "dbr:Asylum_Records a myOnto:RecordCompany ;\n",
      "    rdfs:label \"Asylum Records\"@en ;\n",
      "    myOnto:hasName \"Asylum Records\"@en ;\n",
      "    rdfs:comment \"An American record label, founded in 1971 by David Geffen and partner Elliot Roberts.\"@en .\n",
      "\n",
      "dbr:Big_Machine_Records a myOnto:RecordCompany ;\n",
      "    rdfs:label \"Big Machine Records\"@en ;\n",
      "    myOnto:hasName \"Big Machine Records\"@en ;\n",
      "    rdfs:comment \"An American independent record label.\"@en .\n",
      "\n",
      "dbr:Calvin_Harris a myOnto:Person ;\n",
      "    rdfs:label \"Calvin Harris\"@en ;\n",
      "    dbo:birthName \"Adam Richard Wiles\"@en ;\n",
      "    myOnto:hasWikipageID 9424472 ;\n",
      "    rdfs:comment \"A Scottish DJ, record producer, singer, and songwriter.\"@en .\n",
      "\n",
      "dbr:Def_Jam_Recordings a myOnto:RecordCompany ;\n",
      "    rdfs:label \"Def Jam Recordings\"@en ;\n",
      "    myOnto:hasName \"Def Jam Recordings\"@en ;\n",
      "    rdfs:comment \"An American multinational record label owned by Universal Music Group.\"@en .\n",
      "\n",
      "dbr:Dua_Lipa a myOnto:Person ;\n",
      "    rdfs:label \"Dua Lipa\"@en ;\n",
      "    dbo:birthName \"Dua Lipa\"@en ;\n",
      "    myOnto:hasWikipageID 49002318 ;\n",
      "    rdfs:comment \"An English and Albanian singer and songwriter.\"@en .\n",
      "\n",
      "dbr:Gavin_DeGraw a myOnto:Person ;\n",
      "    rdfs:label \"Gavin DeGraw\"@en ;\n",
      "    dbo:birthName \"Gavin Shane DeGraw\"@en ;\n",
      "    myOnto:hasWikipageID 7955359 ;\n",
      "    rdfs:comment \"An American singer-songwriter.\"@en .\n",
      "\n",
      "dbr:Hudson_Mohawke a myOnto:Person ;\n",
      "    rdfs:label \"Ross Matthew Birchard\"@en ;\n",
      "    dbo:birthName \"Hudson Mohawke\"@en ;\n",
      "    myOnto:hasWikipageID 21431138 ;\n",
      "    rdfs:comment \"A Scottish-American producer, composer, and DJ from Glasgow.\"@en .\n",
      "\n",
      "dbr:Ilya_Salmanzadeh a myOnto:Person ;\n",
      "    rdfs:label \"Ilya Salmanzadeh\"@en ;\n",
      "    dbo:birthName \"Ilya Salmanzadeh\"@en ;\n",
      "    myOnto:hasWikipageID 42686955 ;\n",
      "    rdfs:comment \"A Swedish-Persian songwriter, producer and singer.\"@en .\n",
      "\n",
      "dbr:Jack_Antonoff a myOnto:Person ;\n",
      "    rdfs:label \"Jack Antonoff\"@en ;\n",
      "    dbo:birthName \"Jack Michael Antonoff\"@en ;\n",
      "    myOnto:hasWikipageID 37591914 ;\n",
      "    rdfs:comment \"An American singer, multi-instrumentalist, songwriter, and record producer.\"@en .\n",
      "\n",
      "dbr:Kanye_West a myOnto:Person ;\n",
      "    rdfs:label \"Kanye West\"@en ;\n",
      "    dbo:birthName \"Kanye West\"@en ;\n",
      "    myOnto:hasWikipageID 523032 ;\n",
      "    rdfs:comment \"An American rapper, songwriter, record producer and fashion designer.\"@en .\n",
      "\n",
      "dbr:Mark_Ronson a myOnto:Person ;\n",
      "    rdfs:label \"Mark Ronson\"@en ;\n",
      "    dbo:birthName \"Mark Daniel Ronson\"@en ;\n",
      "    myOnto:hasWikipageID 2885151 ;\n",
      "    rdfs:comment \"A British-American DJ, songwriter, record producer, and record executive.\"@en .\n",
      "\n",
      "dbr:Mike_Will_Made_It a myOnto:Person ;\n",
      "    rdfs:label \"Mike Will Made It\"@en ;\n",
      "    dbo:birthName \"Michael Len Williams II\"@en ;\n",
      "    myOnto:hasWikipageID 37114091 ;\n",
      "    rdfs:comment \"An American record producer, rapper, songwriter and DJ.\"@en .\n",
      "\n",
      "dbr:Miley_Cyrus a myOnto:Person ;\n",
      "    rdfs:label \"Miley Cyrus\"@en ;\n",
      "    dbo:birthName \"Destiny Hope Cyrus\"@en ;\n",
      "    myOnto:hasWikipageID 8135890 ;\n",
      "    rdfs:comment \"An American singer, songwriter, and actress.\"@en .\n",
      "\n",
      "dbr:Pharrell_Williams a myOnto:Person ;\n",
      "    rdfs:label \"Pharrell Williams\"@en ;\n",
      "    dbo:birthName \"Pharrell Lanscilo Williams\"@en ;\n",
      "    myOnto:hasWikipageID 735009 ;\n",
      "    rdfs:comment \"An American record producer, rapper, singer, and songwriter.\"@en .\n",
      "\n",
      "dbr:Republic_Records a myOnto:RecordCompany ;\n",
      "    rdfs:label \"Republic Records\"@en ;\n",
      "    myOnto:hasName \"Republic Records\"@en ;\n",
      "    rdfs:comment \"A New York City–based American record label.\"@en .\n",
      "\n",
      "dbr:Selena_Gomez a myOnto:Person ;\n",
      "    rdfs:label \"Selena Gomez\"@en ;\n",
      "    dbo:birthName \"Selena Marie Gomez\"@en ;\n",
      "    myOnto:hasWikipageID 6844407 ;\n",
      "    rdfs:comment \"An American singer, actress and film producer.\"@en .\n",
      "\n",
      "dbr:Soft_rock a dbo:MusicGenre ;\n",
      "    rdfs:label \"Soft rock\"@en ;\n",
      "    rdfs:comment \"A form of rock music that originated in the late 1960s in Southern California and the United Kingdom.\"@en ;\n",
      "    foaf:name \"Soft rock\"@en .\n",
      "\n",
      "dbr:Soul_music a dbo:MusicGenre ;\n",
      "    rdfs:label \"Soul music\"@en ;\n",
      "    rdfs:comment \"A popular music genre that originated in the African American community throughout the United States in the late 1950s and early 1960s.\"@en ;\n",
      "    foaf:name \"Soul music\"@en .\n",
      "\n",
      "dbr:Tainy a myOnto:Person ;\n",
      "    rdfs:label \"Tainy\"@en ;\n",
      "    dbo:birthName \"Marcos Efraín Masís Fernández\"@en ;\n",
      "    myOnto:hasWikipageID 14147029 ;\n",
      "    rdfs:comment \"A Puerto Rican record producer and songwriter.\"@en .\n",
      "\n",
      "dbr:Universal_Music_Group a myOnto:RecordCompany ;\n",
      "    rdfs:label \"Universal Music Group\"@en ;\n",
      "    myOnto:hasName \"Universal Music Group\"@en ;\n",
      "    rdfs:comment \"A Dutch–American multinational music corporation.\"@en .\n",
      "\n",
      "dbr:XL_Recordings a myOnto:RecordCompany ;\n",
      "    rdfs:label \"XL Recordings\"@en ;\n",
      "    myOnto:hasName \"XL Recordings\"@en ;\n",
      "    rdfs:comment \"A British independent record label founded in 1989 by Tim Palmer and Nick Halkes.\"@en .\n",
      "\n",
      "dbr:Atlantic_Records a myOnto:RecordCompany ;\n",
      "    rdfs:label \"Atlantic Records\"@en ;\n",
      "    myOnto:hasName \"Atlantic Records\"@en ;\n",
      "    rdfs:comment \"An American record label founded in October 1947 by Ahmet Ertegun and Herb Abramson.\"@en .\n",
      "\n",
      "dbr:Electropop a dbo:MusicGenre ;\n",
      "    rdfs:label \"Electropop\"@en ;\n",
      "    rdfs:comment \"A hybrid music genre combining elements of electronic and pop genres.\"@en ;\n",
      "    foaf:name \"Electropop\"@en .\n",
      "\n",
      "dbr:Greg_Kurstin a myOnto:Person ;\n",
      "    rdfs:label \"Greg Kurstin\"@en ;\n",
      "    dbo:birthName \"Gregory Allen Kurstin\"@en ;\n",
      "    myOnto:hasWikipageID 16096608 ;\n",
      "    rdfs:comment \"An American record producer, multi-instrumentalist, and songwriter.\"@en .\n",
      "\n",
      "dbr:Jake_Gosling a myOnto:Person ;\n",
      "    rdfs:label \"Jake Gosling\"@en ;\n",
      "    dbo:birthName \"Jake Gosling\"@en ;\n",
      "    myOnto:hasWikipageID 30794834 ;\n",
      "    rdfs:comment \"A British music producer.\"@en .\n",
      "\n",
      "dbr:Max_Martin a myOnto:Person ;\n",
      "    rdfs:label \"Max Martin\"@en ;\n",
      "    dbo:birthName \"Karl Martin Sandberg\"@en ;\n",
      "    myOnto:hasWikipageID 640575 ;\n",
      "    rdfs:comment \"A Swedish record producer and songwriter.\"@en .\n",
      "\n",
      "dbr:Paul_Epworth a myOnto:Person ;\n",
      "    rdfs:label \"Paul Epworth\"@en ;\n",
      "    dbo:birthName \"Paul Richard Epworth\"@en ;\n",
      "    myOnto:hasWikipageID 3577734 ;\n",
      "    rdfs:comment \"An English record producer, songwriter, musician, and remixer.\"@en .\n",
      "\n",
      "dbr:Rihanna a myOnto:Person ;\n",
      "    rdfs:label \"Rihanna\"@en ;\n",
      "    dbo:birthName \"Robyn Rihanna Fenty\"@en ;\n",
      "    myOnto:hasWikipageID 2110323 ;\n",
      "    rdfs:comment \"A Barbadian singer, actress, and businesswoman.\"@en .\n",
      "\n",
      "dbr:Taylor_Swift a myOnto:Person ;\n",
      "    rdfs:label \"Taylor Swift\"@en ;\n",
      "    dbo:birthName \"Taylor Alison Swift\"@en ;\n",
      "    myOnto:hasWikipageID 5422144 ;\n",
      "    rdfs:comment \"An American singer-songwriter.\"@en .\n",
      "\n",
      "dbr:Benny_Blanco a myOnto:Person ;\n",
      "    rdfs:label \"Benny Blanco\"@en ;\n",
      "    dbo:birthName \"Benjamin Joseph Levin\"@en ;\n",
      "    myOnto:hasWikipageID 20034513 ;\n",
      "    rdfs:comment \"An American songwriter and record producer.\"@en .\n",
      "\n",
      "dbr:Columbia_Records a myOnto:RecordCompany ;\n",
      "    rdfs:label \"Columbia Records\"@en ;\n",
      "    myOnto:hasName \"Columbia Records\"@en ;\n",
      "    rdfs:comment \"An American record label owned by Sony Music Entertainment.\"@en .\n",
      "\n",
      "dbr:Interscope_Records a myOnto:RecordCompany ;\n",
      "    rdfs:label \"Interscope Records\"@en ;\n",
      "    myOnto:hasName \"Interscope Records\"@en ;\n",
      "    rdfs:comment \"An American record label owned by Universal Music Group.\"@en .\n",
      "\n",
      "dbr:Rick_Nowels a myOnto:Person ;\n",
      "    rdfs:label \"Rick Nowels\"@en ;\n",
      "    dbo:birthName \"Richard Wright Nowels Jr.\"@en ;\n",
      "    myOnto:hasWikipageID 868529 ;\n",
      "    rdfs:comment \"An American songwriter, record producer, multi-instrumentalist and arranger.\"@en .\n",
      "\n",
      "dbr:Adele a myOnto:Person ;\n",
      "    rdfs:label \"Adele\"@en ;\n",
      "    dbo:birthName \"Adele Laurie Blue Adkins\"@en ;\n",
      "    myOnto:hasWikipageID 13041163 ;\n",
      "    rdfs:comment \"An English singer and songwriter.\"@en .\n",
      "\n",
      "dbr:Ed_Sheeran a myOnto:Person ;\n",
      "    rdfs:label \"Ed Sheeran\"@en ;\n",
      "    dbo:birthName \"Edward Christopher Sheeran\"@en ;\n",
      "    myOnto:hasWikipageID 30528002 ;\n",
      "    rdfs:comment \"An English singer and songwriter.\"@en .\n",
      "\n",
      "dbr:Lana_Del_Rey a myOnto:Person ;\n",
      "    rdfs:label \"Lana Del Rey\"@en ;\n",
      "    dbo:birthName \"Elizabeth Woolridge Grant\"@en ;\n",
      "    myOnto:hasWikipageID 33209238 ;\n",
      "    rdfs:comment \"An American singer-songwriter.\"@en .\n",
      "\n",
      "dbr:Pop_music a dbo:MusicGenre ;\n",
      "    rdfs:label \"Pop music\"@en ;\n",
      "    rdfs:comment \"A genre of popular music that originated in its modern form during the mid-1950s in the United States and the United Kingdom.\"@en ;\n",
      "    foaf:name \"Pop music\"@en .\n",
      "\n",
      "\n"
     ]
    }
   ],
   "source": [
    "print(song_graph.serialize(format='turtle'))"
   ]
  },
  {
   "cell_type": "code",
   "execution_count": 123,
   "id": "96fa4aba",
   "metadata": {},
   "outputs": [],
   "source": [
    "# write the created graph as turtle into a file\n",
    "# import os\n",
    "# current_wdir = os.getcwd()\n",
    "# with open(os.path.join(current_wdir, \"resources1.ttl\"), 'w') as outputFile:\n",
    "    # outputFile.write(song_graph.serialize(format='turtle'))"
   ]
  }
 ],
 "metadata": {
  "kernelspec": {
   "display_name": "Python 3 (ipykernel)",
   "language": "python",
   "name": "python3"
  },
  "language_info": {
   "codemirror_mode": {
    "name": "ipython",
    "version": 3
   },
   "file_extension": ".py",
   "mimetype": "text/x-python",
   "name": "python",
   "nbconvert_exporter": "python",
   "pygments_lexer": "ipython3",
   "version": "3.10.6"
  }
 },
 "nbformat": 4,
 "nbformat_minor": 5
}
